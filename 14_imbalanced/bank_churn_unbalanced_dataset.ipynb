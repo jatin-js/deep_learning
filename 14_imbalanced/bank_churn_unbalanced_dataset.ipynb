{
 "cells": [
  {
   "cell_type": "code",
   "execution_count": 1,
   "metadata": {},
   "outputs": [],
   "source": [
    "import pandas as pd\n",
    "import numpy as np\n",
    "import tensorflow as tf\n",
    "from tensorflow import keras"
   ]
  },
  {
   "cell_type": "code",
   "execution_count": 2,
   "metadata": {},
   "outputs": [
    {
     "data": {
      "text/html": [
       "<div>\n",
       "<style scoped>\n",
       "    .dataframe tbody tr th:only-of-type {\n",
       "        vertical-align: middle;\n",
       "    }\n",
       "\n",
       "    .dataframe tbody tr th {\n",
       "        vertical-align: top;\n",
       "    }\n",
       "\n",
       "    .dataframe thead th {\n",
       "        text-align: right;\n",
       "    }\n",
       "</style>\n",
       "<table border=\"1\" class=\"dataframe\">\n",
       "  <thead>\n",
       "    <tr style=\"text-align: right;\">\n",
       "      <th></th>\n",
       "      <th>RowNumber</th>\n",
       "      <th>CustomerId</th>\n",
       "      <th>Surname</th>\n",
       "      <th>CreditScore</th>\n",
       "      <th>Geography</th>\n",
       "      <th>Gender</th>\n",
       "      <th>Age</th>\n",
       "      <th>Tenure</th>\n",
       "      <th>Balance</th>\n",
       "      <th>NumOfProducts</th>\n",
       "      <th>HasCrCard</th>\n",
       "      <th>IsActiveMember</th>\n",
       "      <th>EstimatedSalary</th>\n",
       "      <th>Exited</th>\n",
       "    </tr>\n",
       "  </thead>\n",
       "  <tbody>\n",
       "    <tr>\n",
       "      <th>0</th>\n",
       "      <td>1</td>\n",
       "      <td>15634602</td>\n",
       "      <td>Hargrave</td>\n",
       "      <td>619</td>\n",
       "      <td>France</td>\n",
       "      <td>Female</td>\n",
       "      <td>42</td>\n",
       "      <td>2</td>\n",
       "      <td>0.00</td>\n",
       "      <td>1</td>\n",
       "      <td>1</td>\n",
       "      <td>1</td>\n",
       "      <td>101348.88</td>\n",
       "      <td>1</td>\n",
       "    </tr>\n",
       "    <tr>\n",
       "      <th>1</th>\n",
       "      <td>2</td>\n",
       "      <td>15647311</td>\n",
       "      <td>Hill</td>\n",
       "      <td>608</td>\n",
       "      <td>Spain</td>\n",
       "      <td>Female</td>\n",
       "      <td>41</td>\n",
       "      <td>1</td>\n",
       "      <td>83807.86</td>\n",
       "      <td>1</td>\n",
       "      <td>0</td>\n",
       "      <td>1</td>\n",
       "      <td>112542.58</td>\n",
       "      <td>0</td>\n",
       "    </tr>\n",
       "    <tr>\n",
       "      <th>2</th>\n",
       "      <td>3</td>\n",
       "      <td>15619304</td>\n",
       "      <td>Onio</td>\n",
       "      <td>502</td>\n",
       "      <td>France</td>\n",
       "      <td>Female</td>\n",
       "      <td>42</td>\n",
       "      <td>8</td>\n",
       "      <td>159660.80</td>\n",
       "      <td>3</td>\n",
       "      <td>1</td>\n",
       "      <td>0</td>\n",
       "      <td>113931.57</td>\n",
       "      <td>1</td>\n",
       "    </tr>\n",
       "    <tr>\n",
       "      <th>3</th>\n",
       "      <td>4</td>\n",
       "      <td>15701354</td>\n",
       "      <td>Boni</td>\n",
       "      <td>699</td>\n",
       "      <td>France</td>\n",
       "      <td>Female</td>\n",
       "      <td>39</td>\n",
       "      <td>1</td>\n",
       "      <td>0.00</td>\n",
       "      <td>2</td>\n",
       "      <td>0</td>\n",
       "      <td>0</td>\n",
       "      <td>93826.63</td>\n",
       "      <td>0</td>\n",
       "    </tr>\n",
       "    <tr>\n",
       "      <th>4</th>\n",
       "      <td>5</td>\n",
       "      <td>15737888</td>\n",
       "      <td>Mitchell</td>\n",
       "      <td>850</td>\n",
       "      <td>Spain</td>\n",
       "      <td>Female</td>\n",
       "      <td>43</td>\n",
       "      <td>2</td>\n",
       "      <td>125510.82</td>\n",
       "      <td>1</td>\n",
       "      <td>1</td>\n",
       "      <td>1</td>\n",
       "      <td>79084.10</td>\n",
       "      <td>0</td>\n",
       "    </tr>\n",
       "    <tr>\n",
       "      <th>...</th>\n",
       "      <td>...</td>\n",
       "      <td>...</td>\n",
       "      <td>...</td>\n",
       "      <td>...</td>\n",
       "      <td>...</td>\n",
       "      <td>...</td>\n",
       "      <td>...</td>\n",
       "      <td>...</td>\n",
       "      <td>...</td>\n",
       "      <td>...</td>\n",
       "      <td>...</td>\n",
       "      <td>...</td>\n",
       "      <td>...</td>\n",
       "      <td>...</td>\n",
       "    </tr>\n",
       "    <tr>\n",
       "      <th>9995</th>\n",
       "      <td>9996</td>\n",
       "      <td>15606229</td>\n",
       "      <td>Obijiaku</td>\n",
       "      <td>771</td>\n",
       "      <td>France</td>\n",
       "      <td>Male</td>\n",
       "      <td>39</td>\n",
       "      <td>5</td>\n",
       "      <td>0.00</td>\n",
       "      <td>2</td>\n",
       "      <td>1</td>\n",
       "      <td>0</td>\n",
       "      <td>96270.64</td>\n",
       "      <td>0</td>\n",
       "    </tr>\n",
       "    <tr>\n",
       "      <th>9996</th>\n",
       "      <td>9997</td>\n",
       "      <td>15569892</td>\n",
       "      <td>Johnstone</td>\n",
       "      <td>516</td>\n",
       "      <td>France</td>\n",
       "      <td>Male</td>\n",
       "      <td>35</td>\n",
       "      <td>10</td>\n",
       "      <td>57369.61</td>\n",
       "      <td>1</td>\n",
       "      <td>1</td>\n",
       "      <td>1</td>\n",
       "      <td>101699.77</td>\n",
       "      <td>0</td>\n",
       "    </tr>\n",
       "    <tr>\n",
       "      <th>9997</th>\n",
       "      <td>9998</td>\n",
       "      <td>15584532</td>\n",
       "      <td>Liu</td>\n",
       "      <td>709</td>\n",
       "      <td>France</td>\n",
       "      <td>Female</td>\n",
       "      <td>36</td>\n",
       "      <td>7</td>\n",
       "      <td>0.00</td>\n",
       "      <td>1</td>\n",
       "      <td>0</td>\n",
       "      <td>1</td>\n",
       "      <td>42085.58</td>\n",
       "      <td>1</td>\n",
       "    </tr>\n",
       "    <tr>\n",
       "      <th>9998</th>\n",
       "      <td>9999</td>\n",
       "      <td>15682355</td>\n",
       "      <td>Sabbatini</td>\n",
       "      <td>772</td>\n",
       "      <td>Germany</td>\n",
       "      <td>Male</td>\n",
       "      <td>42</td>\n",
       "      <td>3</td>\n",
       "      <td>75075.31</td>\n",
       "      <td>2</td>\n",
       "      <td>1</td>\n",
       "      <td>0</td>\n",
       "      <td>92888.52</td>\n",
       "      <td>1</td>\n",
       "    </tr>\n",
       "    <tr>\n",
       "      <th>9999</th>\n",
       "      <td>10000</td>\n",
       "      <td>15628319</td>\n",
       "      <td>Walker</td>\n",
       "      <td>792</td>\n",
       "      <td>France</td>\n",
       "      <td>Female</td>\n",
       "      <td>28</td>\n",
       "      <td>4</td>\n",
       "      <td>130142.79</td>\n",
       "      <td>1</td>\n",
       "      <td>1</td>\n",
       "      <td>0</td>\n",
       "      <td>38190.78</td>\n",
       "      <td>0</td>\n",
       "    </tr>\n",
       "  </tbody>\n",
       "</table>\n",
       "<p>10000 rows × 14 columns</p>\n",
       "</div>"
      ],
      "text/plain": [
       "      RowNumber  CustomerId    Surname  CreditScore Geography  Gender  Age  \\\n",
       "0             1    15634602   Hargrave          619    France  Female   42   \n",
       "1             2    15647311       Hill          608     Spain  Female   41   \n",
       "2             3    15619304       Onio          502    France  Female   42   \n",
       "3             4    15701354       Boni          699    France  Female   39   \n",
       "4             5    15737888   Mitchell          850     Spain  Female   43   \n",
       "...         ...         ...        ...          ...       ...     ...  ...   \n",
       "9995       9996    15606229   Obijiaku          771    France    Male   39   \n",
       "9996       9997    15569892  Johnstone          516    France    Male   35   \n",
       "9997       9998    15584532        Liu          709    France  Female   36   \n",
       "9998       9999    15682355  Sabbatini          772   Germany    Male   42   \n",
       "9999      10000    15628319     Walker          792    France  Female   28   \n",
       "\n",
       "      Tenure    Balance  NumOfProducts  HasCrCard  IsActiveMember  \\\n",
       "0          2       0.00              1          1               1   \n",
       "1          1   83807.86              1          0               1   \n",
       "2          8  159660.80              3          1               0   \n",
       "3          1       0.00              2          0               0   \n",
       "4          2  125510.82              1          1               1   \n",
       "...      ...        ...            ...        ...             ...   \n",
       "9995       5       0.00              2          1               0   \n",
       "9996      10   57369.61              1          1               1   \n",
       "9997       7       0.00              1          0               1   \n",
       "9998       3   75075.31              2          1               0   \n",
       "9999       4  130142.79              1          1               0   \n",
       "\n",
       "      EstimatedSalary  Exited  \n",
       "0           101348.88       1  \n",
       "1           112542.58       0  \n",
       "2           113931.57       1  \n",
       "3            93826.63       0  \n",
       "4            79084.10       0  \n",
       "...               ...     ...  \n",
       "9995         96270.64       0  \n",
       "9996        101699.77       0  \n",
       "9997         42085.58       1  \n",
       "9998         92888.52       1  \n",
       "9999         38190.78       0  \n",
       "\n",
       "[10000 rows x 14 columns]"
      ]
     },
     "execution_count": 2,
     "metadata": {},
     "output_type": "execute_result"
    }
   ],
   "source": [
    "df = pd.read_csv('bank_churn.csv')\n",
    "df"
   ]
  },
  {
   "cell_type": "code",
   "execution_count": 3,
   "metadata": {},
   "outputs": [
    {
     "data": {
      "text/html": [
       "<div>\n",
       "<style scoped>\n",
       "    .dataframe tbody tr th:only-of-type {\n",
       "        vertical-align: middle;\n",
       "    }\n",
       "\n",
       "    .dataframe tbody tr th {\n",
       "        vertical-align: top;\n",
       "    }\n",
       "\n",
       "    .dataframe thead th {\n",
       "        text-align: right;\n",
       "    }\n",
       "</style>\n",
       "<table border=\"1\" class=\"dataframe\">\n",
       "  <thead>\n",
       "    <tr style=\"text-align: right;\">\n",
       "      <th></th>\n",
       "      <th>CreditScore</th>\n",
       "      <th>Geography</th>\n",
       "      <th>Gender</th>\n",
       "      <th>Age</th>\n",
       "      <th>Tenure</th>\n",
       "      <th>Balance</th>\n",
       "      <th>NumOfProducts</th>\n",
       "      <th>HasCrCard</th>\n",
       "      <th>IsActiveMember</th>\n",
       "      <th>EstimatedSalary</th>\n",
       "      <th>Exited</th>\n",
       "    </tr>\n",
       "  </thead>\n",
       "  <tbody>\n",
       "    <tr>\n",
       "      <th>0</th>\n",
       "      <td>619</td>\n",
       "      <td>France</td>\n",
       "      <td>Female</td>\n",
       "      <td>42</td>\n",
       "      <td>2</td>\n",
       "      <td>0.00</td>\n",
       "      <td>1</td>\n",
       "      <td>1</td>\n",
       "      <td>1</td>\n",
       "      <td>101348.88</td>\n",
       "      <td>1</td>\n",
       "    </tr>\n",
       "    <tr>\n",
       "      <th>1</th>\n",
       "      <td>608</td>\n",
       "      <td>Spain</td>\n",
       "      <td>Female</td>\n",
       "      <td>41</td>\n",
       "      <td>1</td>\n",
       "      <td>83807.86</td>\n",
       "      <td>1</td>\n",
       "      <td>0</td>\n",
       "      <td>1</td>\n",
       "      <td>112542.58</td>\n",
       "      <td>0</td>\n",
       "    </tr>\n",
       "    <tr>\n",
       "      <th>2</th>\n",
       "      <td>502</td>\n",
       "      <td>France</td>\n",
       "      <td>Female</td>\n",
       "      <td>42</td>\n",
       "      <td>8</td>\n",
       "      <td>159660.80</td>\n",
       "      <td>3</td>\n",
       "      <td>1</td>\n",
       "      <td>0</td>\n",
       "      <td>113931.57</td>\n",
       "      <td>1</td>\n",
       "    </tr>\n",
       "    <tr>\n",
       "      <th>3</th>\n",
       "      <td>699</td>\n",
       "      <td>France</td>\n",
       "      <td>Female</td>\n",
       "      <td>39</td>\n",
       "      <td>1</td>\n",
       "      <td>0.00</td>\n",
       "      <td>2</td>\n",
       "      <td>0</td>\n",
       "      <td>0</td>\n",
       "      <td>93826.63</td>\n",
       "      <td>0</td>\n",
       "    </tr>\n",
       "    <tr>\n",
       "      <th>4</th>\n",
       "      <td>850</td>\n",
       "      <td>Spain</td>\n",
       "      <td>Female</td>\n",
       "      <td>43</td>\n",
       "      <td>2</td>\n",
       "      <td>125510.82</td>\n",
       "      <td>1</td>\n",
       "      <td>1</td>\n",
       "      <td>1</td>\n",
       "      <td>79084.10</td>\n",
       "      <td>0</td>\n",
       "    </tr>\n",
       "  </tbody>\n",
       "</table>\n",
       "</div>"
      ],
      "text/plain": [
       "   CreditScore Geography  Gender  Age  Tenure    Balance  NumOfProducts  \\\n",
       "0          619    France  Female   42       2       0.00              1   \n",
       "1          608     Spain  Female   41       1   83807.86              1   \n",
       "2          502    France  Female   42       8  159660.80              3   \n",
       "3          699    France  Female   39       1       0.00              2   \n",
       "4          850     Spain  Female   43       2  125510.82              1   \n",
       "\n",
       "   HasCrCard  IsActiveMember  EstimatedSalary  Exited  \n",
       "0          1               1        101348.88       1  \n",
       "1          0               1        112542.58       0  \n",
       "2          1               0        113931.57       1  \n",
       "3          0               0         93826.63       0  \n",
       "4          1               1         79084.10       0  "
      ]
     },
     "execution_count": 3,
     "metadata": {},
     "output_type": "execute_result"
    }
   ],
   "source": [
    "drop_col = ['Surname', 'RowNumber', 'CustomerId']\n",
    "df.drop(columns=drop_col, inplace=True)\n",
    "df.head()"
   ]
  },
  {
   "cell_type": "code",
   "execution_count": 4,
   "metadata": {},
   "outputs": [
    {
     "name": "stdout",
     "output_type": "stream",
     "text": [
      "<class 'pandas.core.frame.DataFrame'>\n",
      "RangeIndex: 10000 entries, 0 to 9999\n",
      "Data columns (total 11 columns):\n",
      " #   Column           Non-Null Count  Dtype  \n",
      "---  ------           --------------  -----  \n",
      " 0   CreditScore      10000 non-null  int64  \n",
      " 1   Geography        10000 non-null  object \n",
      " 2   Gender           10000 non-null  object \n",
      " 3   Age              10000 non-null  int64  \n",
      " 4   Tenure           10000 non-null  int64  \n",
      " 5   Balance          10000 non-null  float64\n",
      " 6   NumOfProducts    10000 non-null  int64  \n",
      " 7   HasCrCard        10000 non-null  int64  \n",
      " 8   IsActiveMember   10000 non-null  int64  \n",
      " 9   EstimatedSalary  10000 non-null  float64\n",
      " 10  Exited           10000 non-null  int64  \n",
      "dtypes: float64(2), int64(7), object(2)\n",
      "memory usage: 859.5+ KB\n"
     ]
    }
   ],
   "source": [
    "df.info()"
   ]
  },
  {
   "cell_type": "code",
   "execution_count": 5,
   "metadata": {},
   "outputs": [],
   "source": [
    "def print_unique_col_values(df):\n",
    "    for col in df:\n",
    "        print(f'{col} : {df[col].unique()}')"
   ]
  },
  {
   "cell_type": "code",
   "execution_count": 6,
   "metadata": {
    "scrolled": true
   },
   "outputs": [
    {
     "name": "stdout",
     "output_type": "stream",
     "text": [
      "CreditScore : [619 608 502 699 850 645 822 376 501 684 528 497 476 549 635 616 653 587\n",
      " 726 732 636 510 669 846 577 756 571 574 411 591 533 553 520 722 475 490\n",
      " 804 582 472 465 556 834 660 776 829 637 550 698 585 788 655 601 656 725\n",
      " 511 614 742 687 555 603 751 581 735 661 675 738 813 657 604 519 664 678\n",
      " 757 416 665 777 543 506 493 652 750 729 646 647 808 524 769 730 515 773\n",
      " 814 710 413 623 670 622 785 605 479 685 538 562 721 628 668 828 674 625\n",
      " 432 770 758 795 686 789 589 461 584 579 663 682 793 691 485 650 754 535\n",
      " 716 539 706 586 631 717 800 683 704 615 667 484 480 578 512 606 597 778\n",
      " 514 525 715 580 807 521 759 516 711 618 643 671 689 620 676 572 695 592\n",
      " 567 694 547 594 673 610 767 763 712 703 662 659 523 772 545 634 739 771\n",
      " 681 544 696 766 727 693 557 531 498 651 791 733 811 707 714 782 775 799\n",
      " 602 744 588 747 583 627 731 629 438 642 806 474 559 429 680 749 734 644\n",
      " 626 649 805 718 840 630 654 762 568 613 522 737 648 443 640 540 460 593\n",
      " 801 611 802 745 483 690 492 709 705 560 752 701 537 487 596 702 486 724\n",
      " 548 464 790 534 748 494 590 468 509 818 816 536 753 774 621 569 658 798\n",
      " 641 542 692 639 765 570 638 599 632 779 527 564 833 504 842 508 417 598\n",
      " 741 607 761 848 546 439 755 760 526 713 700 666 566 495 688 612 477 427\n",
      " 839 819 720 459 503 624 529 563 482 796 445 746 786 554 672 787 499 844\n",
      " 450 815 838 803 736 633 600 679 517 792 743 488 421 841 708 507 505 456\n",
      " 435 561 518 565 728 784 552 609 764 697 723 551 444 719 496 541 830 812\n",
      " 677 420 595 617 809 500 826 434 513 478 797 363 399 463 780 452 575 837\n",
      " 794 824 428 823 781 849 489 431 457 768 831 359 820 573 576 558 817 449\n",
      " 440 415 821 530 350 446 425 740 481 783 358 845 451 458 469 423 404 836\n",
      " 473 835 466 491 351 827 843 365 532 414 453 471 401 810 832 470 447 422\n",
      " 825 430 436 426 408 847 418 437 410 454 407 455 462 386 405 383 395 467\n",
      " 433 442 424 448 441 367 412 382 373 419]\n",
      "Geography : ['France' 'Spain' 'Germany']\n",
      "Gender : ['Female' 'Male']\n",
      "Age : [42 41 39 43 44 50 29 27 31 24 34 25 35 45 58 32 38 46 36 33 40 51 61 49\n",
      " 37 19 66 56 26 21 55 75 22 30 28 65 48 52 57 73 47 54 72 20 67 79 62 53\n",
      " 80 59 68 23 60 70 63 64 18 82 69 74 71 76 77 88 85 84 78 81 92 83]\n",
      "Tenure : [ 2  1  8  7  4  6  3 10  5  9  0]\n",
      "Balance : [     0.    83807.86 159660.8  ...  57369.61  75075.31 130142.79]\n",
      "NumOfProducts : [1 3 2 4]\n",
      "HasCrCard : [1 0]\n",
      "IsActiveMember : [1 0]\n",
      "EstimatedSalary : [101348.88 112542.58 113931.57 ...  42085.58  92888.52  38190.78]\n",
      "Exited : [1 0]\n"
     ]
    }
   ],
   "source": [
    "print_unique_col_values(df)"
   ]
  },
  {
   "cell_type": "code",
   "execution_count": 7,
   "metadata": {
    "scrolled": true
   },
   "outputs": [
    {
     "name": "stdout",
     "output_type": "stream",
     "text": [
      "2037 7963\n"
     ]
    },
    {
     "data": {
      "text/plain": [
       "<matplotlib.legend.Legend at 0x14574b0d0>"
      ]
     },
     "execution_count": 7,
     "metadata": {},
     "output_type": "execute_result"
    },
    {
     "data": {
      "image/png": "[encoded data removed]",
      "text/plain": [
       "<Figure size 432x288 with 1 Axes>"
      ]
     },
     "metadata": {
      "needs_background": "light"
     },
     "output_type": "display_data"
    }
   ],
   "source": [
    "from matplotlib import pyplot as plt\n",
    "age_exited = df[df.Exited==1].Age\n",
    "age_not_exited = df[df.Exited==0].Age\n",
    "print(len(age_exited), len(age_not_exited))\n",
    "plt.hist([age_exited, age_not_exited], color=['red', 'green'], label=['Exited:Yes', 'Exited:No'])\n",
    "plt.legend()\n"
   ]
  },
  {
   "cell_type": "code",
   "execution_count": 8,
   "metadata": {},
   "outputs": [
    {
     "data": {
      "text/plain": [
       "<matplotlib.legend.Legend at 0x145c64190>"
      ]
     },
     "execution_count": 8,
     "metadata": {},
     "output_type": "execute_result"
    },
    {
     "data": {
      "image/png": "[encoded data removed]",
      "text/plain": [
       "<Figure size 432x288 with 1 Axes>"
      ]
     },
     "metadata": {
      "needs_background": "light"
     },
     "output_type": "display_data"
    }
   ],
   "source": [
    "tenure_exited = df[df.Exited==1].Tenure\n",
    "tenure_not_exited = df[df.Exited==0].Tenure\n",
    "plt.hist([tenure_exited, tenure_not_exited], color=['red', 'green'], label=['Exited:Yes', 'Exited:No'])\n",
    "plt.legend()"
   ]
  },
  {
   "cell_type": "code",
   "execution_count": 9,
   "metadata": {},
   "outputs": [
    {
     "data": {
      "text/plain": [
       "<matplotlib.legend.Legend at 0x111202940>"
      ]
     },
     "execution_count": 9,
     "metadata": {},
     "output_type": "execute_result"
    },
    {
     "data": {
      "image/png": "[encoded data removed]",
      "text/plain": [
       "<Figure size 432x288 with 1 Axes>"
      ]
     },
     "metadata": {
      "needs_background": "light"
     },
     "output_type": "display_data"
    }
   ],
   "source": [
    "credit_exited = df[df.Exited==1].CreditScore\n",
    "credit_not_exited = df[df.Exited==0].CreditScore\n",
    "plt.hist([credit_exited, credit_not_exited], color=['red', 'green'], label=['Exited:Yes', 'Exited:No'])\n",
    "plt.legend()"
   ]
  },
  {
   "cell_type": "code",
   "execution_count": 10,
   "metadata": {},
   "outputs": [
    {
     "data": {
      "text/plain": [
       "2037"
      ]
     },
     "execution_count": 10,
     "metadata": {},
     "output_type": "execute_result"
    }
   ],
   "source": [
    "len(df[df.Exited==1])"
   ]
  },
  {
   "cell_type": "code",
   "execution_count": 11,
   "metadata": {},
   "outputs": [],
   "source": [
    "df1 = pd.get_dummies(data=df, columns=['Geography'])"
   ]
  },
  {
   "cell_type": "code",
   "execution_count": 12,
   "metadata": {},
   "outputs": [
    {
     "data": {
      "text/html": [
       "<div>\n",
       "<style scoped>\n",
       "    .dataframe tbody tr th:only-of-type {\n",
       "        vertical-align: middle;\n",
       "    }\n",
       "\n",
       "    .dataframe tbody tr th {\n",
       "        vertical-align: top;\n",
       "    }\n",
       "\n",
       "    .dataframe thead th {\n",
       "        text-align: right;\n",
       "    }\n",
       "</style>\n",
       "<table border=\"1\" class=\"dataframe\">\n",
       "  <thead>\n",
       "    <tr style=\"text-align: right;\">\n",
       "      <th></th>\n",
       "      <th>CreditScore</th>\n",
       "      <th>Gender</th>\n",
       "      <th>Age</th>\n",
       "      <th>Tenure</th>\n",
       "      <th>Balance</th>\n",
       "      <th>NumOfProducts</th>\n",
       "      <th>HasCrCard</th>\n",
       "      <th>IsActiveMember</th>\n",
       "      <th>EstimatedSalary</th>\n",
       "      <th>Exited</th>\n",
       "      <th>Geography_France</th>\n",
       "      <th>Geography_Germany</th>\n",
       "      <th>Geography_Spain</th>\n",
       "    </tr>\n",
       "  </thead>\n",
       "  <tbody>\n",
       "    <tr>\n",
       "      <th>0</th>\n",
       "      <td>619</td>\n",
       "      <td>Female</td>\n",
       "      <td>42</td>\n",
       "      <td>2</td>\n",
       "      <td>0.00</td>\n",
       "      <td>1</td>\n",
       "      <td>1</td>\n",
       "      <td>1</td>\n",
       "      <td>101348.88</td>\n",
       "      <td>1</td>\n",
       "      <td>1</td>\n",
       "      <td>0</td>\n",
       "      <td>0</td>\n",
       "    </tr>\n",
       "    <tr>\n",
       "      <th>1</th>\n",
       "      <td>608</td>\n",
       "      <td>Female</td>\n",
       "      <td>41</td>\n",
       "      <td>1</td>\n",
       "      <td>83807.86</td>\n",
       "      <td>1</td>\n",
       "      <td>0</td>\n",
       "      <td>1</td>\n",
       "      <td>112542.58</td>\n",
       "      <td>0</td>\n",
       "      <td>0</td>\n",
       "      <td>0</td>\n",
       "      <td>1</td>\n",
       "    </tr>\n",
       "    <tr>\n",
       "      <th>2</th>\n",
       "      <td>502</td>\n",
       "      <td>Female</td>\n",
       "      <td>42</td>\n",
       "      <td>8</td>\n",
       "      <td>159660.80</td>\n",
       "      <td>3</td>\n",
       "      <td>1</td>\n",
       "      <td>0</td>\n",
       "      <td>113931.57</td>\n",
       "      <td>1</td>\n",
       "      <td>1</td>\n",
       "      <td>0</td>\n",
       "      <td>0</td>\n",
       "    </tr>\n",
       "    <tr>\n",
       "      <th>3</th>\n",
       "      <td>699</td>\n",
       "      <td>Female</td>\n",
       "      <td>39</td>\n",
       "      <td>1</td>\n",
       "      <td>0.00</td>\n",
       "      <td>2</td>\n",
       "      <td>0</td>\n",
       "      <td>0</td>\n",
       "      <td>93826.63</td>\n",
       "      <td>0</td>\n",
       "      <td>1</td>\n",
       "      <td>0</td>\n",
       "      <td>0</td>\n",
       "    </tr>\n",
       "    <tr>\n",
       "      <th>4</th>\n",
       "      <td>850</td>\n",
       "      <td>Female</td>\n",
       "      <td>43</td>\n",
       "      <td>2</td>\n",
       "      <td>125510.82</td>\n",
       "      <td>1</td>\n",
       "      <td>1</td>\n",
       "      <td>1</td>\n",
       "      <td>79084.10</td>\n",
       "      <td>0</td>\n",
       "      <td>0</td>\n",
       "      <td>0</td>\n",
       "      <td>1</td>\n",
       "    </tr>\n",
       "    <tr>\n",
       "      <th>...</th>\n",
       "      <td>...</td>\n",
       "      <td>...</td>\n",
       "      <td>...</td>\n",
       "      <td>...</td>\n",
       "      <td>...</td>\n",
       "      <td>...</td>\n",
       "      <td>...</td>\n",
       "      <td>...</td>\n",
       "      <td>...</td>\n",
       "      <td>...</td>\n",
       "      <td>...</td>\n",
       "      <td>...</td>\n",
       "      <td>...</td>\n",
       "    </tr>\n",
       "    <tr>\n",
       "      <th>9995</th>\n",
       "      <td>771</td>\n",
       "      <td>Male</td>\n",
       "      <td>39</td>\n",
       "      <td>5</td>\n",
       "      <td>0.00</td>\n",
       "      <td>2</td>\n",
       "      <td>1</td>\n",
       "      <td>0</td>\n",
       "      <td>96270.64</td>\n",
       "      <td>0</td>\n",
       "      <td>1</td>\n",
       "      <td>0</td>\n",
       "      <td>0</td>\n",
       "    </tr>\n",
       "    <tr>\n",
       "      <th>9996</th>\n",
       "      <td>516</td>\n",
       "      <td>Male</td>\n",
       "      <td>35</td>\n",
       "      <td>10</td>\n",
       "      <td>57369.61</td>\n",
       "      <td>1</td>\n",
       "      <td>1</td>\n",
       "      <td>1</td>\n",
       "      <td>101699.77</td>\n",
       "      <td>0</td>\n",
       "      <td>1</td>\n",
       "      <td>0</td>\n",
       "      <td>0</td>\n",
       "    </tr>\n",
       "    <tr>\n",
       "      <th>9997</th>\n",
       "      <td>709</td>\n",
       "      <td>Female</td>\n",
       "      <td>36</td>\n",
       "      <td>7</td>\n",
       "      <td>0.00</td>\n",
       "      <td>1</td>\n",
       "      <td>0</td>\n",
       "      <td>1</td>\n",
       "      <td>42085.58</td>\n",
       "      <td>1</td>\n",
       "      <td>1</td>\n",
       "      <td>0</td>\n",
       "      <td>0</td>\n",
       "    </tr>\n",
       "    <tr>\n",
       "      <th>9998</th>\n",
       "      <td>772</td>\n",
       "      <td>Male</td>\n",
       "      <td>42</td>\n",
       "      <td>3</td>\n",
       "      <td>75075.31</td>\n",
       "      <td>2</td>\n",
       "      <td>1</td>\n",
       "      <td>0</td>\n",
       "      <td>92888.52</td>\n",
       "      <td>1</td>\n",
       "      <td>0</td>\n",
       "      <td>1</td>\n",
       "      <td>0</td>\n",
       "    </tr>\n",
       "    <tr>\n",
       "      <th>9999</th>\n",
       "      <td>792</td>\n",
       "      <td>Female</td>\n",
       "      <td>28</td>\n",
       "      <td>4</td>\n",
       "      <td>130142.79</td>\n",
       "      <td>1</td>\n",
       "      <td>1</td>\n",
       "      <td>0</td>\n",
       "      <td>38190.78</td>\n",
       "      <td>0</td>\n",
       "      <td>1</td>\n",
       "      <td>0</td>\n",
       "      <td>0</td>\n",
       "    </tr>\n",
       "  </tbody>\n",
       "</table>\n",
       "<p>10000 rows × 13 columns</p>\n",
       "</div>"
      ],
      "text/plain": [
       "      CreditScore  Gender  Age  Tenure    Balance  NumOfProducts  HasCrCard  \\\n",
       "0             619  Female   42       2       0.00              1          1   \n",
       "1             608  Female   41       1   83807.86              1          0   \n",
       "2             502  Female   42       8  159660.80              3          1   \n",
       "3             699  Female   39       1       0.00              2          0   \n",
       "4             850  Female   43       2  125510.82              1          1   \n",
       "...           ...     ...  ...     ...        ...            ...        ...   \n",
       "9995          771    Male   39       5       0.00              2          1   \n",
       "9996          516    Male   35      10   57369.61              1          1   \n",
       "9997          709  Female   36       7       0.00              1          0   \n",
       "9998          772    Male   42       3   75075.31              2          1   \n",
       "9999          792  Female   28       4  130142.79              1          1   \n",
       "\n",
       "      IsActiveMember  EstimatedSalary  Exited  Geography_France  \\\n",
       "0                  1        101348.88       1                 1   \n",
       "1                  1        112542.58       0                 0   \n",
       "2                  0        113931.57       1                 1   \n",
       "3                  0         93826.63       0                 1   \n",
       "4                  1         79084.10       0                 0   \n",
       "...              ...              ...     ...               ...   \n",
       "9995               0         96270.64       0                 1   \n",
       "9996               1        101699.77       0                 1   \n",
       "9997               1         42085.58       1                 1   \n",
       "9998               0         92888.52       1                 0   \n",
       "9999               0         38190.78       0                 1   \n",
       "\n",
       "      Geography_Germany  Geography_Spain  \n",
       "0                     0                0  \n",
       "1                     0                1  \n",
       "2                     0                0  \n",
       "3                     0                0  \n",
       "4                     0                1  \n",
       "...                 ...              ...  \n",
       "9995                  0                0  \n",
       "9996                  0                0  \n",
       "9997                  0                0  \n",
       "9998                  1                0  \n",
       "9999                  0                0  \n",
       "\n",
       "[10000 rows x 13 columns]"
      ]
     },
     "execution_count": 12,
     "metadata": {},
     "output_type": "execute_result"
    }
   ],
   "source": [
    "df1"
   ]
  },
  {
   "cell_type": "code",
   "execution_count": 13,
   "metadata": {},
   "outputs": [],
   "source": [
    "# df1.replace('Male', 0, inplace=True)\n",
    "# df1.replace('Female', 1, inplace=True)\n",
    "df1['Gender'].replace({'Female':1, 'Male':0}, inplace=True)"
   ]
  },
  {
   "cell_type": "code",
   "execution_count": 14,
   "metadata": {},
   "outputs": [
    {
     "data": {
      "text/html": [
       "<div>\n",
       "<style scoped>\n",
       "    .dataframe tbody tr th:only-of-type {\n",
       "        vertical-align: middle;\n",
       "    }\n",
       "\n",
       "    .dataframe tbody tr th {\n",
       "        vertical-align: top;\n",
       "    }\n",
       "\n",
       "    .dataframe thead th {\n",
       "        text-align: right;\n",
       "    }\n",
       "</style>\n",
       "<table border=\"1\" class=\"dataframe\">\n",
       "  <thead>\n",
       "    <tr style=\"text-align: right;\">\n",
       "      <th></th>\n",
       "      <th>CreditScore</th>\n",
       "      <th>Gender</th>\n",
       "      <th>Age</th>\n",
       "      <th>Tenure</th>\n",
       "      <th>Balance</th>\n",
       "      <th>NumOfProducts</th>\n",
       "      <th>HasCrCard</th>\n",
       "      <th>IsActiveMember</th>\n",
       "      <th>EstimatedSalary</th>\n",
       "      <th>Exited</th>\n",
       "      <th>Geography_France</th>\n",
       "      <th>Geography_Germany</th>\n",
       "      <th>Geography_Spain</th>\n",
       "    </tr>\n",
       "  </thead>\n",
       "  <tbody>\n",
       "    <tr>\n",
       "      <th>0</th>\n",
       "      <td>619</td>\n",
       "      <td>1</td>\n",
       "      <td>42</td>\n",
       "      <td>2</td>\n",
       "      <td>0.00</td>\n",
       "      <td>1</td>\n",
       "      <td>1</td>\n",
       "      <td>1</td>\n",
       "      <td>101348.88</td>\n",
       "      <td>1</td>\n",
       "      <td>1</td>\n",
       "      <td>0</td>\n",
       "      <td>0</td>\n",
       "    </tr>\n",
       "    <tr>\n",
       "      <th>1</th>\n",
       "      <td>608</td>\n",
       "      <td>1</td>\n",
       "      <td>41</td>\n",
       "      <td>1</td>\n",
       "      <td>83807.86</td>\n",
       "      <td>1</td>\n",
       "      <td>0</td>\n",
       "      <td>1</td>\n",
       "      <td>112542.58</td>\n",
       "      <td>0</td>\n",
       "      <td>0</td>\n",
       "      <td>0</td>\n",
       "      <td>1</td>\n",
       "    </tr>\n",
       "    <tr>\n",
       "      <th>2</th>\n",
       "      <td>502</td>\n",
       "      <td>1</td>\n",
       "      <td>42</td>\n",
       "      <td>8</td>\n",
       "      <td>159660.80</td>\n",
       "      <td>3</td>\n",
       "      <td>1</td>\n",
       "      <td>0</td>\n",
       "      <td>113931.57</td>\n",
       "      <td>1</td>\n",
       "      <td>1</td>\n",
       "      <td>0</td>\n",
       "      <td>0</td>\n",
       "    </tr>\n",
       "    <tr>\n",
       "      <th>3</th>\n",
       "      <td>699</td>\n",
       "      <td>1</td>\n",
       "      <td>39</td>\n",
       "      <td>1</td>\n",
       "      <td>0.00</td>\n",
       "      <td>2</td>\n",
       "      <td>0</td>\n",
       "      <td>0</td>\n",
       "      <td>93826.63</td>\n",
       "      <td>0</td>\n",
       "      <td>1</td>\n",
       "      <td>0</td>\n",
       "      <td>0</td>\n",
       "    </tr>\n",
       "    <tr>\n",
       "      <th>4</th>\n",
       "      <td>850</td>\n",
       "      <td>1</td>\n",
       "      <td>43</td>\n",
       "      <td>2</td>\n",
       "      <td>125510.82</td>\n",
       "      <td>1</td>\n",
       "      <td>1</td>\n",
       "      <td>1</td>\n",
       "      <td>79084.10</td>\n",
       "      <td>0</td>\n",
       "      <td>0</td>\n",
       "      <td>0</td>\n",
       "      <td>1</td>\n",
       "    </tr>\n",
       "    <tr>\n",
       "      <th>...</th>\n",
       "      <td>...</td>\n",
       "      <td>...</td>\n",
       "      <td>...</td>\n",
       "      <td>...</td>\n",
       "      <td>...</td>\n",
       "      <td>...</td>\n",
       "      <td>...</td>\n",
       "      <td>...</td>\n",
       "      <td>...</td>\n",
       "      <td>...</td>\n",
       "      <td>...</td>\n",
       "      <td>...</td>\n",
       "      <td>...</td>\n",
       "    </tr>\n",
       "    <tr>\n",
       "      <th>9995</th>\n",
       "      <td>771</td>\n",
       "      <td>0</td>\n",
       "      <td>39</td>\n",
       "      <td>5</td>\n",
       "      <td>0.00</td>\n",
       "      <td>2</td>\n",
       "      <td>1</td>\n",
       "      <td>0</td>\n",
       "      <td>96270.64</td>\n",
       "      <td>0</td>\n",
       "      <td>1</td>\n",
       "      <td>0</td>\n",
       "      <td>0</td>\n",
       "    </tr>\n",
       "    <tr>\n",
       "      <th>9996</th>\n",
       "      <td>516</td>\n",
       "      <td>0</td>\n",
       "      <td>35</td>\n",
       "      <td>10</td>\n",
       "      <td>57369.61</td>\n",
       "      <td>1</td>\n",
       "      <td>1</td>\n",
       "      <td>1</td>\n",
       "      <td>101699.77</td>\n",
       "      <td>0</td>\n",
       "      <td>1</td>\n",
       "      <td>0</td>\n",
       "      <td>0</td>\n",
       "    </tr>\n",
       "    <tr>\n",
       "      <th>9997</th>\n",
       "      <td>709</td>\n",
       "      <td>1</td>\n",
       "      <td>36</td>\n",
       "      <td>7</td>\n",
       "      <td>0.00</td>\n",
       "      <td>1</td>\n",
       "      <td>0</td>\n",
       "      <td>1</td>\n",
       "      <td>42085.58</td>\n",
       "      <td>1</td>\n",
       "      <td>1</td>\n",
       "      <td>0</td>\n",
       "      <td>0</td>\n",
       "    </tr>\n",
       "    <tr>\n",
       "      <th>9998</th>\n",
       "      <td>772</td>\n",
       "      <td>0</td>\n",
       "      <td>42</td>\n",
       "      <td>3</td>\n",
       "      <td>75075.31</td>\n",
       "      <td>2</td>\n",
       "      <td>1</td>\n",
       "      <td>0</td>\n",
       "      <td>92888.52</td>\n",
       "      <td>1</td>\n",
       "      <td>0</td>\n",
       "      <td>1</td>\n",
       "      <td>0</td>\n",
       "    </tr>\n",
       "    <tr>\n",
       "      <th>9999</th>\n",
       "      <td>792</td>\n",
       "      <td>1</td>\n",
       "      <td>28</td>\n",
       "      <td>4</td>\n",
       "      <td>130142.79</td>\n",
       "      <td>1</td>\n",
       "      <td>1</td>\n",
       "      <td>0</td>\n",
       "      <td>38190.78</td>\n",
       "      <td>0</td>\n",
       "      <td>1</td>\n",
       "      <td>0</td>\n",
       "      <td>0</td>\n",
       "    </tr>\n",
       "  </tbody>\n",
       "</table>\n",
       "<p>10000 rows × 13 columns</p>\n",
       "</div>"
      ],
      "text/plain": [
       "      CreditScore  Gender  Age  Tenure    Balance  NumOfProducts  HasCrCard  \\\n",
       "0             619       1   42       2       0.00              1          1   \n",
       "1             608       1   41       1   83807.86              1          0   \n",
       "2             502       1   42       8  159660.80              3          1   \n",
       "3             699       1   39       1       0.00              2          0   \n",
       "4             850       1   43       2  125510.82              1          1   \n",
       "...           ...     ...  ...     ...        ...            ...        ...   \n",
       "9995          771       0   39       5       0.00              2          1   \n",
       "9996          516       0   35      10   57369.61              1          1   \n",
       "9997          709       1   36       7       0.00              1          0   \n",
       "9998          772       0   42       3   75075.31              2          1   \n",
       "9999          792       1   28       4  130142.79              1          1   \n",
       "\n",
       "      IsActiveMember  EstimatedSalary  Exited  Geography_France  \\\n",
       "0                  1        101348.88       1                 1   \n",
       "1                  1        112542.58       0                 0   \n",
       "2                  0        113931.57       1                 1   \n",
       "3                  0         93826.63       0                 1   \n",
       "4                  1         79084.10       0                 0   \n",
       "...              ...              ...     ...               ...   \n",
       "9995               0         96270.64       0                 1   \n",
       "9996               1        101699.77       0                 1   \n",
       "9997               1         42085.58       1                 1   \n",
       "9998               0         92888.52       1                 0   \n",
       "9999               0         38190.78       0                 1   \n",
       "\n",
       "      Geography_Germany  Geography_Spain  \n",
       "0                     0                0  \n",
       "1                     0                1  \n",
       "2                     0                0  \n",
       "3                     0                0  \n",
       "4                     0                1  \n",
       "...                 ...              ...  \n",
       "9995                  0                0  \n",
       "9996                  0                0  \n",
       "9997                  0                0  \n",
       "9998                  1                0  \n",
       "9999                  0                0  \n",
       "\n",
       "[10000 rows x 13 columns]"
      ]
     },
     "execution_count": 14,
     "metadata": {},
     "output_type": "execute_result"
    }
   ],
   "source": [
    "df1"
   ]
  },
  {
   "cell_type": "code",
   "execution_count": 15,
   "metadata": {},
   "outputs": [],
   "source": [
    "normal_col = ['CreditScore', 'Balance', 'EstimatedSalary']\n",
    "from sklearn.preprocessing import MinMaxScaler\n",
    "s = MinMaxScaler()\n",
    "df1[normal_col] = s.fit_transform(df1[normal_col])"
   ]
  },
  {
   "cell_type": "code",
   "execution_count": 16,
   "metadata": {},
   "outputs": [
    {
     "data": {
      "text/html": [
       "<div>\n",
       "<style scoped>\n",
       "    .dataframe tbody tr th:only-of-type {\n",
       "        vertical-align: middle;\n",
       "    }\n",
       "\n",
       "    .dataframe tbody tr th {\n",
       "        vertical-align: top;\n",
       "    }\n",
       "\n",
       "    .dataframe thead th {\n",
       "        text-align: right;\n",
       "    }\n",
       "</style>\n",
       "<table border=\"1\" class=\"dataframe\">\n",
       "  <thead>\n",
       "    <tr style=\"text-align: right;\">\n",
       "      <th></th>\n",
       "      <th>CreditScore</th>\n",
       "      <th>Gender</th>\n",
       "      <th>Age</th>\n",
       "      <th>Tenure</th>\n",
       "      <th>Balance</th>\n",
       "      <th>NumOfProducts</th>\n",
       "      <th>HasCrCard</th>\n",
       "      <th>IsActiveMember</th>\n",
       "      <th>EstimatedSalary</th>\n",
       "      <th>Exited</th>\n",
       "      <th>Geography_France</th>\n",
       "      <th>Geography_Germany</th>\n",
       "      <th>Geography_Spain</th>\n",
       "    </tr>\n",
       "  </thead>\n",
       "  <tbody>\n",
       "    <tr>\n",
       "      <th>0</th>\n",
       "      <td>0.538</td>\n",
       "      <td>1</td>\n",
       "      <td>42</td>\n",
       "      <td>2</td>\n",
       "      <td>0.000000</td>\n",
       "      <td>1</td>\n",
       "      <td>1</td>\n",
       "      <td>1</td>\n",
       "      <td>0.506735</td>\n",
       "      <td>1</td>\n",
       "      <td>1</td>\n",
       "      <td>0</td>\n",
       "      <td>0</td>\n",
       "    </tr>\n",
       "    <tr>\n",
       "      <th>1</th>\n",
       "      <td>0.516</td>\n",
       "      <td>1</td>\n",
       "      <td>41</td>\n",
       "      <td>1</td>\n",
       "      <td>0.334031</td>\n",
       "      <td>1</td>\n",
       "      <td>0</td>\n",
       "      <td>1</td>\n",
       "      <td>0.562709</td>\n",
       "      <td>0</td>\n",
       "      <td>0</td>\n",
       "      <td>0</td>\n",
       "      <td>1</td>\n",
       "    </tr>\n",
       "    <tr>\n",
       "      <th>2</th>\n",
       "      <td>0.304</td>\n",
       "      <td>1</td>\n",
       "      <td>42</td>\n",
       "      <td>8</td>\n",
       "      <td>0.636357</td>\n",
       "      <td>3</td>\n",
       "      <td>1</td>\n",
       "      <td>0</td>\n",
       "      <td>0.569654</td>\n",
       "      <td>1</td>\n",
       "      <td>1</td>\n",
       "      <td>0</td>\n",
       "      <td>0</td>\n",
       "    </tr>\n",
       "    <tr>\n",
       "      <th>3</th>\n",
       "      <td>0.698</td>\n",
       "      <td>1</td>\n",
       "      <td>39</td>\n",
       "      <td>1</td>\n",
       "      <td>0.000000</td>\n",
       "      <td>2</td>\n",
       "      <td>0</td>\n",
       "      <td>0</td>\n",
       "      <td>0.469120</td>\n",
       "      <td>0</td>\n",
       "      <td>1</td>\n",
       "      <td>0</td>\n",
       "      <td>0</td>\n",
       "    </tr>\n",
       "    <tr>\n",
       "      <th>4</th>\n",
       "      <td>1.000</td>\n",
       "      <td>1</td>\n",
       "      <td>43</td>\n",
       "      <td>2</td>\n",
       "      <td>0.500246</td>\n",
       "      <td>1</td>\n",
       "      <td>1</td>\n",
       "      <td>1</td>\n",
       "      <td>0.395400</td>\n",
       "      <td>0</td>\n",
       "      <td>0</td>\n",
       "      <td>0</td>\n",
       "      <td>1</td>\n",
       "    </tr>\n",
       "  </tbody>\n",
       "</table>\n",
       "</div>"
      ],
      "text/plain": [
       "   CreditScore  Gender  Age  Tenure   Balance  NumOfProducts  HasCrCard  \\\n",
       "0        0.538       1   42       2  0.000000              1          1   \n",
       "1        0.516       1   41       1  0.334031              1          0   \n",
       "2        0.304       1   42       8  0.636357              3          1   \n",
       "3        0.698       1   39       1  0.000000              2          0   \n",
       "4        1.000       1   43       2  0.500246              1          1   \n",
       "\n",
       "   IsActiveMember  EstimatedSalary  Exited  Geography_France  \\\n",
       "0               1         0.506735       1                 1   \n",
       "1               1         0.562709       0                 0   \n",
       "2               0         0.569654       1                 1   \n",
       "3               0         0.469120       0                 1   \n",
       "4               1         0.395400       0                 0   \n",
       "\n",
       "   Geography_Germany  Geography_Spain  \n",
       "0                  0                0  \n",
       "1                  0                1  \n",
       "2                  0                0  \n",
       "3                  0                0  \n",
       "4                  0                1  "
      ]
     },
     "execution_count": 16,
     "metadata": {},
     "output_type": "execute_result"
    }
   ],
   "source": [
    "df1.head()"
   ]
  },
  {
   "cell_type": "code",
   "execution_count": 17,
   "metadata": {},
   "outputs": [],
   "source": [
    "x = df1.drop('Exited', axis='columns')\n",
    "y = df1['Exited']\n",
    "\n",
    "from sklearn.model_selection import train_test_split\n",
    "x_train, x_test, y_train, y_test = train_test_split(x, y, test_size=0.2, random_state=5)"
   ]
  },
  {
   "cell_type": "code",
   "execution_count": 18,
   "metadata": {},
   "outputs": [
    {
     "data": {
      "text/plain": [
       "(8000, 12)"
      ]
     },
     "execution_count": 18,
     "metadata": {},
     "output_type": "execute_result"
    }
   ],
   "source": [
    "x_train.shape"
   ]
  },
  {
   "cell_type": "code",
   "execution_count": 19,
   "metadata": {},
   "outputs": [
    {
     "data": {
      "text/plain": [
       "(2000, 12)"
      ]
     },
     "execution_count": 19,
     "metadata": {},
     "output_type": "execute_result"
    }
   ],
   "source": [
    "x_test.shape"
   ]
  },
  {
   "cell_type": "code",
   "execution_count": 20,
   "metadata": {},
   "outputs": [],
   "source": [
    "model = keras.Sequential([\n",
    "    keras.layers.Dense(12, input_shape=(12,), activation='relu'),\n",
    "    keras.layers.Dense(8, activation='relu'),\n",
    "    keras.layers.Dense(1, activation='sigmoid')\n",
    "])\n",
    "\n",
    "model.compile(\n",
    "    optimizer='adam',\n",
    "    loss='binary_crossentropy',\n",
    "    metrics='accuracy'\n",
    ")"
   ]
  },
  {
   "cell_type": "code",
   "execution_count": 21,
   "metadata": {},
   "outputs": [
    {
     "name": "stdout",
     "output_type": "stream",
     "text": [
      "Epoch 1/100\n",
      "250/250 [==============================] - 1s 630us/step - loss: 0.6690 - accuracy: 0.6896\n",
      "Epoch 2/100\n",
      "250/250 [==============================] - 0s 482us/step - loss: 0.5210 - accuracy: 0.7995\n",
      "Epoch 3/100\n",
      "250/250 [==============================] - 0s 508us/step - loss: 0.5115 - accuracy: 0.7922\n",
      "Epoch 4/100\n",
      "250/250 [==============================] - 0s 523us/step - loss: 0.4961 - accuracy: 0.7918\n",
      "Epoch 5/100\n",
      "250/250 [==============================] - 0s 474us/step - loss: 0.4663 - accuracy: 0.8035\n",
      "Epoch 6/100\n",
      "250/250 [==============================] - 0s 499us/step - loss: 0.4488 - accuracy: 0.8076\n",
      "Epoch 7/100\n",
      "250/250 [==============================] - 0s 511us/step - loss: 0.4566 - accuracy: 0.8072\n",
      "Epoch 8/100\n",
      "250/250 [==============================] - 0s 476us/step - loss: 0.4339 - accuracy: 0.8185\n",
      "Epoch 9/100\n",
      "250/250 [==============================] - 0s 559us/step - loss: 0.4466 - accuracy: 0.8059\n",
      "Epoch 10/100\n",
      "250/250 [==============================] - 0s 481us/step - loss: 0.4434 - accuracy: 0.8172\n",
      "Epoch 11/100\n",
      "250/250 [==============================] - 0s 519us/step - loss: 0.4408 - accuracy: 0.8072\n",
      "Epoch 12/100\n",
      "250/250 [==============================] - 0s 487us/step - loss: 0.4466 - accuracy: 0.8135\n",
      "Epoch 13/100\n",
      "250/250 [==============================] - 0s 508us/step - loss: 0.4277 - accuracy: 0.8186\n",
      "Epoch 14/100\n",
      "250/250 [==============================] - 0s 492us/step - loss: 0.4440 - accuracy: 0.8131\n",
      "Epoch 15/100\n",
      "250/250 [==============================] - 0s 482us/step - loss: 0.4365 - accuracy: 0.8135\n",
      "Epoch 16/100\n",
      "250/250 [==============================] - 0s 518us/step - loss: 0.4375 - accuracy: 0.8084\n",
      "Epoch 17/100\n",
      "250/250 [==============================] - 0s 486us/step - loss: 0.4327 - accuracy: 0.8191\n",
      "Epoch 18/100\n",
      "250/250 [==============================] - 0s 527us/step - loss: 0.4285 - accuracy: 0.8241\n",
      "Epoch 19/100\n",
      "250/250 [==============================] - 0s 484us/step - loss: 0.4285 - accuracy: 0.8220\n",
      "Epoch 20/100\n",
      "250/250 [==============================] - 0s 532us/step - loss: 0.4361 - accuracy: 0.8108\n",
      "Epoch 21/100\n",
      "250/250 [==============================] - 0s 492us/step - loss: 0.4397 - accuracy: 0.8119\n",
      "Epoch 22/100\n",
      "250/250 [==============================] - 0s 522us/step - loss: 0.4348 - accuracy: 0.8143\n",
      "Epoch 23/100\n",
      "250/250 [==============================] - 0s 481us/step - loss: 0.4246 - accuracy: 0.8219\n",
      "Epoch 24/100\n",
      "250/250 [==============================] - 0s 523us/step - loss: 0.4268 - accuracy: 0.8195\n",
      "Epoch 25/100\n",
      "250/250 [==============================] - 0s 496us/step - loss: 0.4445 - accuracy: 0.8022\n",
      "Epoch 26/100\n",
      "250/250 [==============================] - 0s 484us/step - loss: 0.4363 - accuracy: 0.8098\n",
      "Epoch 27/100\n",
      "250/250 [==============================] - 0s 495us/step - loss: 0.4341 - accuracy: 0.8152\n",
      "Epoch 28/100\n",
      "250/250 [==============================] - 0s 492us/step - loss: 0.4319 - accuracy: 0.8119\n",
      "Epoch 29/100\n",
      "250/250 [==============================] - 0s 493us/step - loss: 0.4279 - accuracy: 0.8151\n",
      "Epoch 30/100\n",
      "250/250 [==============================] - 0s 495us/step - loss: 0.4317 - accuracy: 0.8150\n",
      "Epoch 31/100\n",
      "250/250 [==============================] - 0s 497us/step - loss: 0.4380 - accuracy: 0.8116\n",
      "Epoch 32/100\n",
      "250/250 [==============================] - 0s 489us/step - loss: 0.4343 - accuracy: 0.8137\n",
      "Epoch 33/100\n",
      "250/250 [==============================] - 0s 493us/step - loss: 0.4380 - accuracy: 0.8127\n",
      "Epoch 34/100\n",
      "250/250 [==============================] - 0s 524us/step - loss: 0.4350 - accuracy: 0.8135\n",
      "Epoch 35/100\n",
      "250/250 [==============================] - 0s 483us/step - loss: 0.4324 - accuracy: 0.8154\n",
      "Epoch 36/100\n",
      "250/250 [==============================] - 0s 493us/step - loss: 0.4230 - accuracy: 0.8148\n",
      "Epoch 37/100\n",
      "250/250 [==============================] - 0s 482us/step - loss: 0.4317 - accuracy: 0.8134\n",
      "Epoch 38/100\n",
      "250/250 [==============================] - 0s 482us/step - loss: 0.4359 - accuracy: 0.8128\n",
      "Epoch 39/100\n",
      "250/250 [==============================] - 0s 471us/step - loss: 0.4254 - accuracy: 0.8174\n",
      "Epoch 40/100\n",
      "250/250 [==============================] - 0s 475us/step - loss: 0.4337 - accuracy: 0.8088\n",
      "Epoch 41/100\n",
      "250/250 [==============================] - 0s 482us/step - loss: 0.4294 - accuracy: 0.8162\n",
      "Epoch 42/100\n",
      "250/250 [==============================] - 0s 482us/step - loss: 0.4284 - accuracy: 0.8125\n",
      "Epoch 43/100\n",
      "250/250 [==============================] - 0s 481us/step - loss: 0.4363 - accuracy: 0.8106\n",
      "Epoch 44/100\n",
      "250/250 [==============================] - 0s 476us/step - loss: 0.4308 - accuracy: 0.8178\n",
      "Epoch 45/100\n",
      "250/250 [==============================] - 0s 473us/step - loss: 0.4279 - accuracy: 0.8150\n",
      "Epoch 46/100\n",
      "250/250 [==============================] - 0s 480us/step - loss: 0.4323 - accuracy: 0.8060\n",
      "Epoch 47/100\n",
      "250/250 [==============================] - 0s 482us/step - loss: 0.4281 - accuracy: 0.8150\n",
      "Epoch 48/100\n",
      "250/250 [==============================] - 0s 473us/step - loss: 0.4383 - accuracy: 0.8044\n",
      "Epoch 49/100\n",
      "250/250 [==============================] - 0s 493us/step - loss: 0.4374 - accuracy: 0.8120\n",
      "Epoch 50/100\n",
      "250/250 [==============================] - 0s 483us/step - loss: 0.4423 - accuracy: 0.8009\n",
      "Epoch 51/100\n",
      "250/250 [==============================] - 0s 492us/step - loss: 0.4451 - accuracy: 0.8055\n",
      "Epoch 52/100\n",
      "250/250 [==============================] - 0s 491us/step - loss: 0.4371 - accuracy: 0.8092\n",
      "Epoch 53/100\n",
      "250/250 [==============================] - 0s 478us/step - loss: 0.4345 - accuracy: 0.8046\n",
      "Epoch 54/100\n",
      "250/250 [==============================] - 0s 481us/step - loss: 0.4333 - accuracy: 0.8117\n",
      "Epoch 55/100\n",
      "250/250 [==============================] - 0s 474us/step - loss: 0.4438 - accuracy: 0.8051\n",
      "Epoch 56/100\n",
      "250/250 [==============================] - 0s 474us/step - loss: 0.4343 - accuracy: 0.8102\n",
      "Epoch 57/100\n",
      "250/250 [==============================] - 0s 480us/step - loss: 0.4288 - accuracy: 0.8159\n",
      "Epoch 58/100\n",
      "250/250 [==============================] - 0s 474us/step - loss: 0.4292 - accuracy: 0.8135\n",
      "Epoch 59/100\n",
      "250/250 [==============================] - 0s 475us/step - loss: 0.4312 - accuracy: 0.8139\n",
      "Epoch 60/100\n",
      "250/250 [==============================] - 0s 471us/step - loss: 0.4461 - accuracy: 0.8031\n",
      "Epoch 61/100\n",
      "250/250 [==============================] - 0s 479us/step - loss: 0.4371 - accuracy: 0.8094\n",
      "Epoch 62/100\n",
      "250/250 [==============================] - 0s 475us/step - loss: 0.4374 - accuracy: 0.8076\n",
      "Epoch 63/100\n",
      "250/250 [==============================] - 0s 474us/step - loss: 0.4348 - accuracy: 0.8093\n",
      "Epoch 64/100\n",
      "250/250 [==============================] - 0s 474us/step - loss: 0.4346 - accuracy: 0.8110\n",
      "Epoch 65/100\n",
      "250/250 [==============================] - 0s 474us/step - loss: 0.4364 - accuracy: 0.8108\n",
      "Epoch 66/100\n",
      "250/250 [==============================] - 0s 477us/step - loss: 0.4308 - accuracy: 0.8104\n",
      "Epoch 67/100\n",
      "250/250 [==============================] - 0s 474us/step - loss: 0.4304 - accuracy: 0.8082\n",
      "Epoch 68/100\n",
      "250/250 [==============================] - 0s 472us/step - loss: 0.4311 - accuracy: 0.8115\n",
      "Epoch 69/100\n",
      "250/250 [==============================] - 0s 477us/step - loss: 0.4313 - accuracy: 0.8089\n",
      "Epoch 70/100\n",
      "250/250 [==============================] - 0s 473us/step - loss: 0.4372 - accuracy: 0.8091\n",
      "Epoch 71/100\n",
      "250/250 [==============================] - 0s 472us/step - loss: 0.4272 - accuracy: 0.8174\n",
      "Epoch 72/100\n",
      "250/250 [==============================] - 0s 476us/step - loss: 0.4347 - accuracy: 0.8096\n",
      "Epoch 73/100\n",
      "250/250 [==============================] - 0s 529us/step - loss: 0.4465 - accuracy: 0.8034\n",
      "Epoch 74/100\n",
      "250/250 [==============================] - 0s 524us/step - loss: 0.4258 - accuracy: 0.8123\n",
      "Epoch 75/100\n",
      "250/250 [==============================] - 0s 486us/step - loss: 0.4301 - accuracy: 0.8084\n",
      "Epoch 76/100\n",
      "250/250 [==============================] - 0s 503us/step - loss: 0.4280 - accuracy: 0.8160\n",
      "Epoch 77/100\n",
      "250/250 [==============================] - 0s 490us/step - loss: 0.4434 - accuracy: 0.8091\n",
      "Epoch 78/100\n",
      "250/250 [==============================] - 0s 471us/step - loss: 0.4334 - accuracy: 0.8123\n",
      "Epoch 79/100\n"
     ]
    },
    {
     "name": "stdout",
     "output_type": "stream",
     "text": [
      "250/250 [==============================] - 0s 469us/step - loss: 0.4248 - accuracy: 0.8165\n",
      "Epoch 80/100\n",
      "250/250 [==============================] - 0s 469us/step - loss: 0.4401 - accuracy: 0.8058\n",
      "Epoch 81/100\n",
      "250/250 [==============================] - 0s 515us/step - loss: 0.4349 - accuracy: 0.8045\n",
      "Epoch 82/100\n",
      "250/250 [==============================] - 0s 471us/step - loss: 0.4266 - accuracy: 0.8116\n",
      "Epoch 83/100\n",
      "250/250 [==============================] - 0s 551us/step - loss: 0.4372 - accuracy: 0.8053\n",
      "Epoch 84/100\n",
      "250/250 [==============================] - 0s 496us/step - loss: 0.4284 - accuracy: 0.8147\n",
      "Epoch 85/100\n",
      "250/250 [==============================] - 0s 475us/step - loss: 0.4246 - accuracy: 0.8130\n",
      "Epoch 86/100\n",
      "250/250 [==============================] - 0s 464us/step - loss: 0.4273 - accuracy: 0.8149\n",
      "Epoch 87/100\n",
      "250/250 [==============================] - 0s 466us/step - loss: 0.4287 - accuracy: 0.8164\n",
      "Epoch 88/100\n",
      "250/250 [==============================] - 0s 483us/step - loss: 0.4235 - accuracy: 0.8218\n",
      "Epoch 89/100\n",
      "250/250 [==============================] - 0s 490us/step - loss: 0.4330 - accuracy: 0.8124\n",
      "Epoch 90/100\n",
      "250/250 [==============================] - 0s 503us/step - loss: 0.4243 - accuracy: 0.8129\n",
      "Epoch 91/100\n",
      "250/250 [==============================] - 0s 467us/step - loss: 0.4268 - accuracy: 0.8140\n",
      "Epoch 92/100\n",
      "250/250 [==============================] - 0s 466us/step - loss: 0.4278 - accuracy: 0.8147\n",
      "Epoch 93/100\n",
      "250/250 [==============================] - 0s 465us/step - loss: 0.4226 - accuracy: 0.8163\n",
      "Epoch 94/100\n",
      "250/250 [==============================] - 0s 455us/step - loss: 0.4239 - accuracy: 0.8184\n",
      "Epoch 95/100\n",
      "250/250 [==============================] - 0s 459us/step - loss: 0.4285 - accuracy: 0.8175\n",
      "Epoch 96/100\n",
      "250/250 [==============================] - 0s 474us/step - loss: 0.4227 - accuracy: 0.8162\n",
      "Epoch 97/100\n",
      "250/250 [==============================] - 0s 521us/step - loss: 0.4335 - accuracy: 0.8056\n",
      "Epoch 98/100\n",
      "250/250 [==============================] - 0s 482us/step - loss: 0.4357 - accuracy: 0.8126\n",
      "Epoch 99/100\n",
      "250/250 [==============================] - 0s 453us/step - loss: 0.4278 - accuracy: 0.8147\n",
      "Epoch 100/100\n",
      "250/250 [==============================] - 0s 455us/step - loss: 0.4320 - accuracy: 0.8066\n"
     ]
    },
    {
     "data": {
      "text/plain": [
       "<tensorflow.python.keras.callbacks.History at 0x147ed2820>"
      ]
     },
     "execution_count": 21,
     "metadata": {},
     "output_type": "execute_result"
    }
   ],
   "source": [
    "model.fit(x_train, y_train, epochs=100)"
   ]
  },
  {
   "cell_type": "code",
   "execution_count": 22,
   "metadata": {},
   "outputs": [
    {
     "name": "stdout",
     "output_type": "stream",
     "text": [
      "63/63 [==============================] - 0s 540us/step - loss: 0.4285 - accuracy: 0.8105\n"
     ]
    },
    {
     "data": {
      "text/plain": [
       "[0.4285394251346588, 0.8105000257492065]"
      ]
     },
     "execution_count": 22,
     "metadata": {},
     "output_type": "execute_result"
    }
   ],
   "source": [
    "model.evaluate(x_test, y_test)"
   ]
  },
  {
   "cell_type": "code",
   "execution_count": 23,
   "metadata": {},
   "outputs": [
    {
     "data": {
      "text/plain": [
       "array([[0.1396215 ],\n",
       "       [0.08591831],\n",
       "       [0.09323785],\n",
       "       [0.06966674],\n",
       "       [0.16489187]], dtype=float32)"
      ]
     },
     "execution_count": 23,
     "metadata": {},
     "output_type": "execute_result"
    }
   ],
   "source": [
    "yp = model.predict(x_test)\n",
    "yp[:5]"
   ]
  },
  {
   "cell_type": "code",
   "execution_count": 24,
   "metadata": {},
   "outputs": [],
   "source": [
    "y_pred = []\n",
    "for i in yp:\n",
    "    if i>0.5:\n",
    "        y_pred.append(1)\n",
    "    else:\n",
    "        y_pred.append(0)\n",
    "    "
   ]
  },
  {
   "cell_type": "code",
   "execution_count": 25,
   "metadata": {},
   "outputs": [
    {
     "data": {
      "text/plain": [
       "[0, 0, 0, 0, 0, 0, 0, 0, 0, 0]"
      ]
     },
     "execution_count": 25,
     "metadata": {},
     "output_type": "execute_result"
    }
   ],
   "source": [
    "y_pred[:10]"
   ]
  },
  {
   "cell_type": "code",
   "execution_count": 26,
   "metadata": {},
   "outputs": [
    {
     "data": {
      "text/plain": [
       "7054    0\n",
       "442     0\n",
       "3954    0\n",
       "2288    0\n",
       "3196    0\n",
       "6178    0\n",
       "8351    0\n",
       "5658    1\n",
       "2065    0\n",
       "413     1\n",
       "Name: Exited, dtype: int64"
      ]
     },
     "execution_count": 26,
     "metadata": {},
     "output_type": "execute_result"
    }
   ],
   "source": [
    "y_test[:10]"
   ]
  },
  {
   "cell_type": "code",
   "execution_count": 27,
   "metadata": {},
   "outputs": [
    {
     "name": "stdout",
     "output_type": "stream",
     "text": [
      "              precision    recall  f1-score   support\n",
      "\n",
      "           0       0.83      0.96      0.89      1595\n",
      "           1       0.59      0.21      0.31       405\n",
      "\n",
      "    accuracy                           0.81      2000\n",
      "   macro avg       0.71      0.59      0.60      2000\n",
      "weighted avg       0.78      0.81      0.77      2000\n",
      "\n"
     ]
    }
   ],
   "source": [
    "from sklearn.metrics import confusion_matrix, classification_report\n",
    "print(classification_report(y_test, y_pred))"
   ]
  },
  {
   "cell_type": "code",
   "execution_count": 28,
   "metadata": {},
   "outputs": [
    {
     "data": {
      "text/plain": [
       "<AxesSubplot:>"
      ]
     },
     "execution_count": 28,
     "metadata": {},
     "output_type": "execute_result"
    },
    {
     "data": {
      "image/png": "[encoded data removed]",
      "text/plain": [
       "<Figure size 504x360 with 2 Axes>"
      ]
     },
     "metadata": {
      "needs_background": "light"
     },
     "output_type": "display_data"
    }
   ],
   "source": [
    "import seaborn as sn\n",
    "plt.figure(figsize=(7, 5))\n",
    "cm = confusion_matrix(y_test, y_pred)\n",
    "sn.heatmap(cm, annot=True, fmt='d')"
   ]
  },
  {
   "cell_type": "code",
   "execution_count": 29,
   "metadata": {},
   "outputs": [
    {
     "data": {
      "text/plain": [
       "0.854"
      ]
     },
     "execution_count": 29,
     "metadata": {},
     "output_type": "execute_result"
    }
   ],
   "source": [
    "(1547+161)/(1547+161+244+48)"
   ]
  },
  {
   "cell_type": "code",
   "execution_count": 30,
   "metadata": {},
   "outputs": [
    {
     "name": "stdout",
     "output_type": "stream",
     "text": [
      "0.86 0.77\n"
     ]
    }
   ],
   "source": [
    "print(round(1547/(1547+244), 2), round(161/(161+48), 2))"
   ]
  },
  {
   "cell_type": "code",
   "execution_count": 31,
   "metadata": {},
   "outputs": [
    {
     "name": "stdout",
     "output_type": "stream",
     "text": [
      "0.97 0.4\n"
     ]
    }
   ],
   "source": [
    "print(round(1547/(1547+48), 2), round(161/(244+161), 2))"
   ]
  },
  {
   "cell_type": "code",
   "execution_count": 32,
   "metadata": {},
   "outputs": [],
   "source": [
    "# Using dropout regularization\n",
    "modeld = keras.Sequential([\n",
    "    keras.layers.Dense(12, input_shape=(12,), activation='relu'),\n",
    "    keras.layers.Dropout(0.5),\n",
    "    keras.layers.Dense(8, activation='relu'),\n",
    "    keras.layers.Dropout(0.2),\n",
    "    keras.layers.Dense(1, activation='sigmoid')\n",
    "])\n",
    "\n",
    "modeld.compile(\n",
    "    optimizer='adam',\n",
    "    loss='binary_crossentropy',\n",
    "    metrics='accuracy'\n",
    ")"
   ]
  },
  {
   "cell_type": "code",
   "execution_count": 33,
   "metadata": {},
   "outputs": [
    {
     "name": "stdout",
     "output_type": "stream",
     "text": [
      "Epoch 1/100\n",
      "250/250 [==============================] - 0s 500us/step - loss: 1.7670 - accuracy: 0.5561\n",
      "Epoch 2/100\n",
      "250/250 [==============================] - 0s 550us/step - loss: 0.5993 - accuracy: 0.7822\n",
      "Epoch 3/100\n",
      "250/250 [==============================] - 0s 497us/step - loss: 0.5632 - accuracy: 0.7947\n",
      "Epoch 4/100\n",
      "250/250 [==============================] - 0s 477us/step - loss: 0.5560 - accuracy: 0.7817\n",
      "Epoch 5/100\n",
      "250/250 [==============================] - 0s 509us/step - loss: 0.5417 - accuracy: 0.7876\n",
      "Epoch 6/100\n",
      "250/250 [==============================] - 0s 530us/step - loss: 0.5364 - accuracy: 0.7834\n",
      "Epoch 7/100\n",
      "250/250 [==============================] - 0s 490us/step - loss: 0.5272 - accuracy: 0.7909\n",
      "Epoch 8/100\n",
      "250/250 [==============================] - 0s 480us/step - loss: 0.5177 - accuracy: 0.7965\n",
      "Epoch 9/100\n",
      "250/250 [==============================] - 0s 478us/step - loss: 0.5169 - accuracy: 0.7912\n",
      "Epoch 10/100\n",
      "250/250 [==============================] - 0s 473us/step - loss: 0.5037 - accuracy: 0.8008\n",
      "Epoch 11/100\n",
      "250/250 [==============================] - 0s 476us/step - loss: 0.4991 - accuracy: 0.7971\n",
      "Epoch 12/100\n",
      "250/250 [==============================] - 0s 476us/step - loss: 0.4989 - accuracy: 0.7951\n",
      "Epoch 13/100\n",
      "250/250 [==============================] - 0s 517us/step - loss: 0.4905 - accuracy: 0.8004\n",
      "Epoch 14/100\n",
      "250/250 [==============================] - 0s 500us/step - loss: 0.4961 - accuracy: 0.7930\n",
      "Epoch 15/100\n",
      "250/250 [==============================] - 0s 479us/step - loss: 0.4889 - accuracy: 0.7964\n",
      "Epoch 16/100\n",
      "250/250 [==============================] - 0s 502us/step - loss: 0.4786 - accuracy: 0.8010\n",
      "Epoch 17/100\n",
      "250/250 [==============================] - 0s 503us/step - loss: 0.4740 - accuracy: 0.8011\n",
      "Epoch 18/100\n",
      "250/250 [==============================] - 0s 477us/step - loss: 0.4864 - accuracy: 0.7911\n",
      "Epoch 19/100\n",
      "250/250 [==============================] - 0s 477us/step - loss: 0.4760 - accuracy: 0.7961\n",
      "Epoch 20/100\n",
      "250/250 [==============================] - 0s 500us/step - loss: 0.4658 - accuracy: 0.8002\n",
      "Epoch 21/100\n",
      "250/250 [==============================] - 0s 512us/step - loss: 0.4786 - accuracy: 0.7938\n",
      "Epoch 22/100\n",
      "250/250 [==============================] - 0s 493us/step - loss: 0.4636 - accuracy: 0.8014\n",
      "Epoch 23/100\n",
      "250/250 [==============================] - 0s 478us/step - loss: 0.4583 - accuracy: 0.8042\n",
      "Epoch 24/100\n",
      "250/250 [==============================] - 0s 476us/step - loss: 0.4631 - accuracy: 0.8051\n",
      "Epoch 25/100\n",
      "250/250 [==============================] - 0s 499us/step - loss: 0.4684 - accuracy: 0.7973\n",
      "Epoch 26/100\n",
      "250/250 [==============================] - 0s 504us/step - loss: 0.4570 - accuracy: 0.8029\n",
      "Epoch 27/100\n",
      "250/250 [==============================] - 0s 499us/step - loss: 0.4559 - accuracy: 0.8078\n",
      "Epoch 28/100\n",
      "250/250 [==============================] - 0s 497us/step - loss: 0.4513 - accuracy: 0.8080\n",
      "Epoch 29/100\n",
      "250/250 [==============================] - 0s 486us/step - loss: 0.4562 - accuracy: 0.8062\n",
      "Epoch 30/100\n",
      "250/250 [==============================] - 0s 487us/step - loss: 0.4647 - accuracy: 0.8025\n",
      "Epoch 31/100\n",
      "250/250 [==============================] - 0s 496us/step - loss: 0.4544 - accuracy: 0.8086\n",
      "Epoch 32/100\n",
      "250/250 [==============================] - 0s 477us/step - loss: 0.4454 - accuracy: 0.8106\n",
      "Epoch 33/100\n",
      "250/250 [==============================] - 0s 483us/step - loss: 0.4602 - accuracy: 0.8018\n",
      "Epoch 34/100\n",
      "250/250 [==============================] - 0s 483us/step - loss: 0.4687 - accuracy: 0.7984\n",
      "Epoch 35/100\n",
      "250/250 [==============================] - 0s 478us/step - loss: 0.4536 - accuracy: 0.8060\n",
      "Epoch 36/100\n",
      "250/250 [==============================] - 0s 478us/step - loss: 0.4708 - accuracy: 0.7980\n",
      "Epoch 37/100\n",
      "250/250 [==============================] - 0s 473us/step - loss: 0.4622 - accuracy: 0.8048\n",
      "Epoch 38/100\n",
      "250/250 [==============================] - 0s 479us/step - loss: 0.4544 - accuracy: 0.8054\n",
      "Epoch 39/100\n",
      "250/250 [==============================] - 0s 501us/step - loss: 0.4539 - accuracy: 0.8068\n",
      "Epoch 40/100\n",
      "250/250 [==============================] - 0s 486us/step - loss: 0.4447 - accuracy: 0.8151\n",
      "Epoch 41/100\n",
      "250/250 [==============================] - 0s 489us/step - loss: 0.4449 - accuracy: 0.8165\n",
      "Epoch 42/100\n",
      "250/250 [==============================] - 0s 477us/step - loss: 0.4433 - accuracy: 0.8148\n",
      "Epoch 43/100\n",
      "250/250 [==============================] - 0s 494us/step - loss: 0.4538 - accuracy: 0.8098\n",
      "Epoch 44/100\n",
      "250/250 [==============================] - 0s 497us/step - loss: 0.4408 - accuracy: 0.8168\n",
      "Epoch 45/100\n",
      "250/250 [==============================] - 0s 493us/step - loss: 0.4581 - accuracy: 0.8015\n",
      "Epoch 46/100\n",
      "250/250 [==============================] - 0s 478us/step - loss: 0.4520 - accuracy: 0.8082\n",
      "Epoch 47/100\n",
      "250/250 [==============================] - 0s 492us/step - loss: 0.4583 - accuracy: 0.8013\n",
      "Epoch 48/100\n",
      "250/250 [==============================] - 0s 498us/step - loss: 0.4581 - accuracy: 0.8077\n",
      "Epoch 49/100\n",
      "250/250 [==============================] - 0s 498us/step - loss: 0.4409 - accuracy: 0.8138\n",
      "Epoch 50/100\n",
      "250/250 [==============================] - 0s 511us/step - loss: 0.4491 - accuracy: 0.8101\n",
      "Epoch 51/100\n",
      "250/250 [==============================] - 0s 510us/step - loss: 0.4509 - accuracy: 0.8109\n",
      "Epoch 52/100\n",
      "250/250 [==============================] - 0s 507us/step - loss: 0.4324 - accuracy: 0.8195\n",
      "Epoch 53/100\n",
      "250/250 [==============================] - 0s 484us/step - loss: 0.4487 - accuracy: 0.8181\n",
      "Epoch 54/100\n",
      "250/250 [==============================] - 0s 493us/step - loss: 0.4448 - accuracy: 0.8188\n",
      "Epoch 55/100\n",
      "250/250 [==============================] - 0s 494us/step - loss: 0.4450 - accuracy: 0.8158\n",
      "Epoch 56/100\n",
      "250/250 [==============================] - 0s 502us/step - loss: 0.4575 - accuracy: 0.8124\n",
      "Epoch 57/100\n",
      "250/250 [==============================] - 0s 498us/step - loss: 0.4375 - accuracy: 0.8198\n",
      "Epoch 58/100\n",
      "250/250 [==============================] - 0s 496us/step - loss: 0.4550 - accuracy: 0.8072\n",
      "Epoch 59/100\n",
      "250/250 [==============================] - 0s 514us/step - loss: 0.4375 - accuracy: 0.8206\n",
      "Epoch 60/100\n",
      "250/250 [==============================] - 0s 488us/step - loss: 0.4336 - accuracy: 0.8227\n",
      "Epoch 61/100\n",
      "250/250 [==============================] - 0s 478us/step - loss: 0.4600 - accuracy: 0.8073\n",
      "Epoch 62/100\n",
      "250/250 [==============================] - 0s 510us/step - loss: 0.4431 - accuracy: 0.8150\n",
      "Epoch 63/100\n",
      "250/250 [==============================] - 0s 495us/step - loss: 0.4438 - accuracy: 0.8137\n",
      "Epoch 64/100\n",
      "250/250 [==============================] - 0s 487us/step - loss: 0.4424 - accuracy: 0.8162\n",
      "Epoch 65/100\n",
      "250/250 [==============================] - 0s 497us/step - loss: 0.4480 - accuracy: 0.8094\n",
      "Epoch 66/100\n",
      "250/250 [==============================] - 0s 486us/step - loss: 0.4430 - accuracy: 0.8136\n",
      "Epoch 67/100\n",
      "250/250 [==============================] - 0s 477us/step - loss: 0.4394 - accuracy: 0.8150\n",
      "Epoch 68/100\n",
      "250/250 [==============================] - 0s 478us/step - loss: 0.4515 - accuracy: 0.8099\n",
      "Epoch 69/100\n",
      "250/250 [==============================] - 0s 480us/step - loss: 0.4423 - accuracy: 0.8138\n",
      "Epoch 70/100\n",
      "250/250 [==============================] - 0s 496us/step - loss: 0.4579 - accuracy: 0.8048\n",
      "Epoch 71/100\n",
      "250/250 [==============================] - 0s 494us/step - loss: 0.4547 - accuracy: 0.8056\n",
      "Epoch 72/100\n",
      "250/250 [==============================] - 0s 514us/step - loss: 0.4357 - accuracy: 0.8195\n",
      "Epoch 73/100\n",
      "250/250 [==============================] - 0s 525us/step - loss: 0.4389 - accuracy: 0.8163\n",
      "Epoch 74/100\n",
      "250/250 [==============================] - 0s 493us/step - loss: 0.4367 - accuracy: 0.8176\n",
      "Epoch 75/100\n",
      "250/250 [==============================] - 0s 476us/step - loss: 0.4470 - accuracy: 0.8158\n",
      "Epoch 76/100\n",
      "250/250 [==============================] - 0s 510us/step - loss: 0.4590 - accuracy: 0.8049\n",
      "Epoch 77/100\n",
      "250/250 [==============================] - 0s 495us/step - loss: 0.4335 - accuracy: 0.8167\n",
      "Epoch 78/100\n",
      "250/250 [==============================] - 0s 477us/step - loss: 0.4396 - accuracy: 0.8137\n",
      "Epoch 79/100\n"
     ]
    },
    {
     "name": "stdout",
     "output_type": "stream",
     "text": [
      "250/250 [==============================] - 0s 477us/step - loss: 0.4499 - accuracy: 0.8120\n",
      "Epoch 80/100\n",
      "250/250 [==============================] - 0s 474us/step - loss: 0.4530 - accuracy: 0.8119\n",
      "Epoch 81/100\n",
      "250/250 [==============================] - 0s 508us/step - loss: 0.4559 - accuracy: 0.8030\n",
      "Epoch 82/100\n",
      "250/250 [==============================] - 0s 498us/step - loss: 0.4440 - accuracy: 0.8140\n",
      "Epoch 83/100\n",
      "250/250 [==============================] - 0s 478us/step - loss: 0.4316 - accuracy: 0.8214\n",
      "Epoch 84/100\n",
      "250/250 [==============================] - 0s 511us/step - loss: 0.4408 - accuracy: 0.8136\n",
      "Epoch 85/100\n",
      "250/250 [==============================] - 0s 515us/step - loss: 0.4454 - accuracy: 0.8134\n",
      "Epoch 86/100\n",
      "250/250 [==============================] - 0s 479us/step - loss: 0.4485 - accuracy: 0.8106\n",
      "Epoch 87/100\n",
      "250/250 [==============================] - 0s 475us/step - loss: 0.4486 - accuracy: 0.8097\n",
      "Epoch 88/100\n",
      "250/250 [==============================] - 0s 477us/step - loss: 0.4393 - accuracy: 0.8168\n",
      "Epoch 89/100\n",
      "250/250 [==============================] - 0s 481us/step - loss: 0.4464 - accuracy: 0.8054\n",
      "Epoch 90/100\n",
      "250/250 [==============================] - 0s 480us/step - loss: 0.4458 - accuracy: 0.8126\n",
      "Epoch 91/100\n",
      "250/250 [==============================] - 0s 476us/step - loss: 0.4490 - accuracy: 0.8084\n",
      "Epoch 92/100\n",
      "250/250 [==============================] - 0s 493us/step - loss: 0.4353 - accuracy: 0.8183\n",
      "Epoch 93/100\n",
      "250/250 [==============================] - 0s 496us/step - loss: 0.4484 - accuracy: 0.8117\n",
      "Epoch 94/100\n",
      "250/250 [==============================] - 0s 484us/step - loss: 0.4392 - accuracy: 0.8207\n",
      "Epoch 95/100\n",
      "250/250 [==============================] - 0s 476us/step - loss: 0.4449 - accuracy: 0.8147\n",
      "Epoch 96/100\n",
      "250/250 [==============================] - 0s 479us/step - loss: 0.4365 - accuracy: 0.8173\n",
      "Epoch 97/100\n",
      "250/250 [==============================] - 0s 475us/step - loss: 0.4502 - accuracy: 0.8090\n",
      "Epoch 98/100\n",
      "250/250 [==============================] - 0s 473us/step - loss: 0.4353 - accuracy: 0.8202\n",
      "Epoch 99/100\n",
      "250/250 [==============================] - 0s 480us/step - loss: 0.4374 - accuracy: 0.8171\n",
      "Epoch 100/100\n",
      "250/250 [==============================] - 0s 541us/step - loss: 0.4443 - accuracy: 0.8137\n"
     ]
    },
    {
     "data": {
      "text/plain": [
       "<tensorflow.python.keras.callbacks.History at 0x148bbc880>"
      ]
     },
     "execution_count": 33,
     "metadata": {},
     "output_type": "execute_result"
    }
   ],
   "source": [
    "modeld.fit(x_train, y_train, epochs=100)"
   ]
  },
  {
   "cell_type": "code",
   "execution_count": 34,
   "metadata": {},
   "outputs": [
    {
     "name": "stdout",
     "output_type": "stream",
     "text": [
      "63/63 [==============================] - 0s 457us/step - loss: 0.4378 - accuracy: 0.8090\n"
     ]
    },
    {
     "data": {
      "text/plain": [
       "[0.43778276443481445, 0.8090000152587891]"
      ]
     },
     "execution_count": 34,
     "metadata": {},
     "output_type": "execute_result"
    }
   ],
   "source": [
    "modeld.evaluate(x_test, y_test)"
   ]
  },
  {
   "cell_type": "code",
   "execution_count": 46,
   "metadata": {},
   "outputs": [],
   "source": [
    "def ANN(x_train, y_train, x_test, y_test, loss):\n",
    "    model = keras.Sequential([\n",
    "        keras.layers.Dense(12, input_shape=(12,), activation='relu'),\n",
    "        keras.layers.Dense(8, activation='relu'),\n",
    "        keras.layers.Dense(1, activation='sigmoid')\n",
    "    ])\n",
    "\n",
    "    model.compile(\n",
    "        optimizer='adam',\n",
    "        loss= loss,\n",
    "        metrics='accuracy'\n",
    "    )\n",
    "    model.fit(x_train, y_train, epochs=10)\n",
    "    print(model.evaluate(x_test, y_test))\n",
    "    y_pred = model.predict(x_test)\n",
    "    y_pred_classes = np.round(y_pred)\n",
    "    print(classification_report(y_test, y_pred_classes))\n",
    "    return y_pred_classes"
   ]
  },
  {
   "cell_type": "code",
   "execution_count": 47,
   "metadata": {},
   "outputs": [
    {
     "name": "stdout",
     "output_type": "stream",
     "text": [
      "Epoch 1/10\n",
      "250/250 [==============================] - 0s 514us/step - loss: 5.6723 - accuracy: 0.4388\n",
      "Epoch 2/10\n",
      "250/250 [==============================] - 0s 487us/step - loss: 0.5864 - accuracy: 0.7534\n",
      "Epoch 3/10\n",
      "250/250 [==============================] - 0s 490us/step - loss: 0.5063 - accuracy: 0.7911\n",
      "Epoch 4/10\n",
      "250/250 [==============================] - 0s 518us/step - loss: 0.4770 - accuracy: 0.7982\n",
      "Epoch 5/10\n",
      "250/250 [==============================] - 0s 497us/step - loss: 0.4551 - accuracy: 0.8045\n",
      "Epoch 6/10\n",
      "250/250 [==============================] - 0s 502us/step - loss: 0.4520 - accuracy: 0.8097\n",
      "Epoch 7/10\n",
      "250/250 [==============================] - 0s 504us/step - loss: 0.4454 - accuracy: 0.8104\n",
      "Epoch 8/10\n",
      "250/250 [==============================] - 0s 500us/step - loss: 0.4379 - accuracy: 0.8187\n",
      "Epoch 9/10\n",
      "250/250 [==============================] - 0s 501us/step - loss: 0.4504 - accuracy: 0.8085\n",
      "Epoch 10/10\n",
      "250/250 [==============================] - 0s 505us/step - loss: 0.4404 - accuracy: 0.8115\n",
      "63/63 [==============================] - 0s 538us/step - loss: 0.4447 - accuracy: 0.8170\n",
      "[0.4447227716445923, 0.8169999718666077]\n",
      "              precision    recall  f1-score   support\n",
      "\n",
      "           0       0.84      0.96      0.89      1595\n",
      "           1       0.61      0.26      0.36       405\n",
      "\n",
      "    accuracy                           0.82      2000\n",
      "   macro avg       0.73      0.61      0.63      2000\n",
      "weighted avg       0.79      0.82      0.79      2000\n",
      "\n"
     ]
    }
   ],
   "source": [
    "y_pred = ANN(x_train, y_train, x_test, y_test, \"binary_crossentropy\")"
   ]
  },
  {
   "cell_type": "markdown",
   "metadata": {},
   "source": [
    "## Undersampling"
   ]
  },
  {
   "cell_type": "code",
   "execution_count": 60,
   "metadata": {},
   "outputs": [
    {
     "data": {
      "text/plain": [
       "7963"
      ]
     },
     "execution_count": 60,
     "metadata": {},
     "output_type": "execute_result"
    }
   ],
   "source": [
    "exited_0_count, exited_1_count = df1['Exited'].value_counts()\n",
    "exited_0_count"
   ]
  },
  {
   "cell_type": "code",
   "execution_count": 62,
   "metadata": {},
   "outputs": [],
   "source": [
    "sample_exited_1 = df1[df1.Exited==1]\n",
    "sample_exited_0 = df1[df1.Exited==0]"
   ]
  },
  {
   "cell_type": "code",
   "execution_count": 63,
   "metadata": {},
   "outputs": [
    {
     "data": {
      "text/plain": [
       "7963"
      ]
     },
     "execution_count": 63,
     "metadata": {},
     "output_type": "execute_result"
    }
   ],
   "source": [
    "len(sample_exited_0)"
   ]
  },
  {
   "cell_type": "code",
   "execution_count": 64,
   "metadata": {},
   "outputs": [
    {
     "data": {
      "text/plain": [
       "2037"
      ]
     },
     "execution_count": 64,
     "metadata": {},
     "output_type": "execute_result"
    }
   ],
   "source": [
    "len(sample_exited_1)"
   ]
  },
  {
   "cell_type": "code",
   "execution_count": 71,
   "metadata": {},
   "outputs": [],
   "source": [
    "sample_exited_0_under = sample_exited_0.sample(exited_1_count)\n",
    "df_under = pd.concat([sample_exited_0_under, sample_exited_1], axis=0)"
   ]
  },
  {
   "cell_type": "code",
   "execution_count": 72,
   "metadata": {},
   "outputs": [
    {
     "data": {
      "text/plain": [
       "1    2037\n",
       "0    2037\n",
       "Name: Exited, dtype: int64"
      ]
     },
     "execution_count": 72,
     "metadata": {},
     "output_type": "execute_result"
    }
   ],
   "source": [
    "df_under.Exited.value_counts()"
   ]
  },
  {
   "cell_type": "code",
   "execution_count": 80,
   "metadata": {},
   "outputs": [],
   "source": [
    "x = df_under.drop('Exited', axis=1)\n",
    "y = df_under['Exited']\n",
    "x_train, x_test, y_train, y_test = train_test_split(x, y, test_size=0.2, random_state=20, stratify=y)"
   ]
  },
  {
   "cell_type": "code",
   "execution_count": 88,
   "metadata": {},
   "outputs": [
    {
     "data": {
      "text/plain": [
       "0    1630\n",
       "1    1629\n",
       "Name: Exited, dtype: int64"
      ]
     },
     "execution_count": 88,
     "metadata": {},
     "output_type": "execute_result"
    }
   ],
   "source": [
    "y_train.value_counts()"
   ]
  },
  {
   "cell_type": "code",
   "execution_count": 90,
   "metadata": {
    "scrolled": true
   },
   "outputs": [
    {
     "name": "stdout",
     "output_type": "stream",
     "text": [
      "Epoch 1/10\n",
      "102/102 [==============================] - 0s 597us/step - loss: 1.4980 - accuracy: 0.5091\n",
      "Epoch 2/10\n",
      "102/102 [==============================] - 0s 570us/step - loss: 0.6499 - accuracy: 0.6407\n",
      "Epoch 3/10\n",
      "102/102 [==============================] - 0s 558us/step - loss: 0.6440 - accuracy: 0.6573\n",
      "Epoch 4/10\n",
      "102/102 [==============================] - 0s 593us/step - loss: 0.6304 - accuracy: 0.6539\n",
      "Epoch 5/10\n",
      "102/102 [==============================] - 0s 561us/step - loss: 0.6116 - accuracy: 0.6834\n",
      "Epoch 6/10\n",
      "102/102 [==============================] - 0s 557us/step - loss: 0.6089 - accuracy: 0.6907\n",
      "Epoch 7/10\n",
      "102/102 [==============================] - 0s 559us/step - loss: 0.6016 - accuracy: 0.6865\n",
      "Epoch 8/10\n",
      "102/102 [==============================] - 0s 529us/step - loss: 0.6052 - accuracy: 0.6902\n",
      "Epoch 9/10\n",
      "102/102 [==============================] - 0s 538us/step - loss: 0.5972 - accuracy: 0.6982\n",
      "Epoch 10/10\n",
      "102/102 [==============================] - 0s 527us/step - loss: 0.6022 - accuracy: 0.6885\n",
      "26/26 [==============================] - 0s 573us/step - loss: 0.5773 - accuracy: 0.7166\n",
      "[0.5773006081581116, 0.716564416885376]\n",
      "              precision    recall  f1-score   support\n",
      "\n",
      "           0       0.71      0.73      0.72       407\n",
      "           1       0.72      0.70      0.71       408\n",
      "\n",
      "    accuracy                           0.72       815\n",
      "   macro avg       0.72      0.72      0.72       815\n",
      "weighted avg       0.72      0.72      0.72       815\n",
      "\n"
     ]
    }
   ],
   "source": [
    "y_pred = ANN(x_train, y_train, x_test, y_test, \"binary_crossentropy\")"
   ]
  },
  {
   "cell_type": "markdown",
   "metadata": {},
   "source": [
    "# Oversampling"
   ]
  },
  {
   "cell_type": "code",
   "execution_count": 98,
   "metadata": {},
   "outputs": [],
   "source": [
    "sample_exited_1_over = sample_exited_1.sample(exited_0_count, replace=True)\n",
    "df_over = pd.concat([sample_exited_0, sample_exited_1_over], axis=0)"
   ]
  },
  {
   "cell_type": "code",
   "execution_count": 100,
   "metadata": {},
   "outputs": [],
   "source": [
    "x = df_over.drop('Exited', axis=1)\n",
    "y = df_over['Exited']"
   ]
  },
  {
   "cell_type": "code",
   "execution_count": 102,
   "metadata": {},
   "outputs": [],
   "source": [
    "x_train, x_test, y_train, y_test = train_test_split(x, y, test_size=0.2, random_state=15, stratify=y)"
   ]
  },
  {
   "cell_type": "code",
   "execution_count": 103,
   "metadata": {},
   "outputs": [
    {
     "data": {
      "text/plain": [
       "1    6370\n",
       "0    6370\n",
       "Name: Exited, dtype: int64"
      ]
     },
     "execution_count": 103,
     "metadata": {},
     "output_type": "execute_result"
    }
   ],
   "source": [
    "y_train.value_counts()"
   ]
  },
  {
   "cell_type": "code",
   "execution_count": 105,
   "metadata": {},
   "outputs": [
    {
     "name": "stdout",
     "output_type": "stream",
     "text": [
      "Epoch 1/10\n",
      "399/399 [==============================] - 1s 540us/step - loss: 0.6812 - accuracy: 0.5489\n",
      "Epoch 2/10\n",
      "399/399 [==============================] - 0s 567us/step - loss: 0.6124 - accuracy: 0.6751\n",
      "Epoch 3/10\n",
      "399/399 [==============================] - 0s 526us/step - loss: 0.5869 - accuracy: 0.6943\n",
      "Epoch 4/10\n",
      "399/399 [==============================] - 0s 552us/step - loss: 0.5809 - accuracy: 0.7021\n",
      "Epoch 5/10\n",
      "399/399 [==============================] - 0s 507us/step - loss: 0.5751 - accuracy: 0.7072\n",
      "Epoch 6/10\n",
      "399/399 [==============================] - 0s 513us/step - loss: 0.5757 - accuracy: 0.7142\n",
      "Epoch 7/10\n",
      "399/399 [==============================] - 0s 563us/step - loss: 0.5780 - accuracy: 0.7130\n",
      "Epoch 8/10\n",
      "399/399 [==============================] - 0s 516us/step - loss: 0.5737 - accuracy: 0.7071\n",
      "Epoch 9/10\n",
      "399/399 [==============================] - 0s 521us/step - loss: 0.5630 - accuracy: 0.7210\n",
      "Epoch 10/10\n",
      "399/399 [==============================] - 0s 527us/step - loss: 0.5662 - accuracy: 0.7157\n",
      "100/100 [==============================] - 0s 454us/step - loss: 0.5403 - accuracy: 0.7332\n",
      "[0.5402590036392212, 0.7332077622413635]\n",
      "              precision    recall  f1-score   support\n",
      "\n",
      "           0       0.71      0.78      0.75      1593\n",
      "           1       0.76      0.69      0.72      1593\n",
      "\n",
      "    accuracy                           0.73      3186\n",
      "   macro avg       0.74      0.73      0.73      3186\n",
      "weighted avg       0.74      0.73      0.73      3186\n",
      "\n"
     ]
    }
   ],
   "source": [
    "y_pred = ANN(x_train, y_train, x_test, y_test, \"binary_crossentropy\")"
   ]
  },
  {
   "cell_type": "markdown",
   "metadata": {},
   "source": [
    "# SMOTE"
   ]
  },
  {
   "cell_type": "code",
   "execution_count": 123,
   "metadata": {},
   "outputs": [
    {
     "data": {
      "text/plain": [
       "0    7963\n",
       "1    2037\n",
       "Name: Exited, dtype: int64"
      ]
     },
     "execution_count": 123,
     "metadata": {},
     "output_type": "execute_result"
    }
   ],
   "source": [
    "x = df1.drop('Exited', axis=1)\n",
    "y = df1['Exited']\n",
    "y.value_counts()"
   ]
  },
  {
   "cell_type": "code",
   "execution_count": 126,
   "metadata": {},
   "outputs": [
    {
     "data": {
      "text/plain": [
       "1    7963\n",
       "0    7963\n",
       "Name: Exited, dtype: int64"
      ]
     },
     "execution_count": 126,
     "metadata": {},
     "output_type": "execute_result"
    }
   ],
   "source": [
    "from imblearn.over_sampling import SMOTE\n",
    "smote = SMOTE(sampling_strategy=\"minority\")\n",
    "x_sm, y_sm = smote.fit_resample(x, y)\n",
    "y_sm.value_counts()"
   ]
  },
  {
   "cell_type": "code",
   "execution_count": 127,
   "metadata": {},
   "outputs": [],
   "source": [
    "x_train, x_test, y_train, y_test = train_test_split(x_sm, y_sm, test_size=0.2, random_state=15, stratify=y_sm)"
   ]
  },
  {
   "cell_type": "code",
   "execution_count": 131,
   "metadata": {},
   "outputs": [
    {
     "name": "stdout",
     "output_type": "stream",
     "text": [
      "Epoch 1/10\n",
      "399/399 [==============================] - 1s 548us/step - loss: 0.8615 - accuracy: 0.5276\n",
      "Epoch 2/10\n",
      "399/399 [==============================] - 0s 548us/step - loss: 0.6177 - accuracy: 0.6908\n",
      "Epoch 3/10\n",
      "399/399 [==============================] - 0s 574us/step - loss: 0.5900 - accuracy: 0.7134\n",
      "Epoch 4/10\n",
      "399/399 [==============================] - 0s 556us/step - loss: 0.5662 - accuracy: 0.7281\n",
      "Epoch 5/10\n",
      "399/399 [==============================] - 0s 549us/step - loss: 0.5634 - accuracy: 0.7167\n",
      "Epoch 6/10\n",
      "399/399 [==============================] - 0s 547us/step - loss: 0.5533 - accuracy: 0.7275\n",
      "Epoch 7/10\n",
      "399/399 [==============================] - 0s 525us/step - loss: 0.5515 - accuracy: 0.7268\n",
      "Epoch 8/10\n",
      "399/399 [==============================] - 0s 510us/step - loss: 0.5473 - accuracy: 0.7263\n",
      "Epoch 9/10\n",
      "399/399 [==============================] - 0s 514us/step - loss: 0.5383 - accuracy: 0.7328\n",
      "Epoch 10/10\n",
      "399/399 [==============================] - 0s 533us/step - loss: 0.5379 - accuracy: 0.7290\n",
      "100/100 [==============================] - 0s 434us/step - loss: 0.5277 - accuracy: 0.7326\n",
      "[0.5277157425880432, 0.7325800657272339]\n",
      "              precision    recall  f1-score   support\n",
      "\n",
      "           0       0.74      0.71      0.73      1593\n",
      "           1       0.72      0.75      0.74      1593\n",
      "\n",
      "    accuracy                           0.73      3186\n",
      "   macro avg       0.73      0.73      0.73      3186\n",
      "weighted avg       0.73      0.73      0.73      3186\n",
      "\n"
     ]
    }
   ],
   "source": [
    "y_pred = ANN(x_train, y_train, x_test, y_test, \"binary_crossentropy\")"
   ]
  },
  {
   "cell_type": "markdown",
   "metadata": {},
   "source": [
    "## Emsemble with undersampling"
   ]
  },
  {
   "cell_type": "code",
   "execution_count": 140,
   "metadata": {},
   "outputs": [],
   "source": [
    "x_train, x_test, y_train, y_test = train_test_split(x, y, test_size=0.2, random_state=15, stratify=y)"
   ]
  },
  {
   "cell_type": "code",
   "execution_count": 145,
   "metadata": {},
   "outputs": [
    {
     "data": {
      "text/html": [
       "<div>\n",
       "<style scoped>\n",
       "    .dataframe tbody tr th:only-of-type {\n",
       "        vertical-align: middle;\n",
       "    }\n",
       "\n",
       "    .dataframe tbody tr th {\n",
       "        vertical-align: top;\n",
       "    }\n",
       "\n",
       "    .dataframe thead th {\n",
       "        text-align: right;\n",
       "    }\n",
       "</style>\n",
       "<table border=\"1\" class=\"dataframe\">\n",
       "  <thead>\n",
       "    <tr style=\"text-align: right;\">\n",
       "      <th></th>\n",
       "      <th>CreditScore</th>\n",
       "      <th>Gender</th>\n",
       "      <th>Age</th>\n",
       "      <th>Tenure</th>\n",
       "      <th>Balance</th>\n",
       "      <th>NumOfProducts</th>\n",
       "      <th>HasCrCard</th>\n",
       "      <th>IsActiveMember</th>\n",
       "      <th>EstimatedSalary</th>\n",
       "      <th>Geography_France</th>\n",
       "      <th>Geography_Germany</th>\n",
       "      <th>Geography_Spain</th>\n",
       "      <th>Exited</th>\n",
       "    </tr>\n",
       "  </thead>\n",
       "  <tbody>\n",
       "    <tr>\n",
       "      <th>5710</th>\n",
       "      <td>0.856</td>\n",
       "      <td>0</td>\n",
       "      <td>34</td>\n",
       "      <td>5</td>\n",
       "      <td>0.554265</td>\n",
       "      <td>2</td>\n",
       "      <td>0</td>\n",
       "      <td>0</td>\n",
       "      <td>0.339721</td>\n",
       "      <td>1</td>\n",
       "      <td>0</td>\n",
       "      <td>0</td>\n",
       "      <td>0</td>\n",
       "    </tr>\n",
       "    <tr>\n",
       "      <th>3745</th>\n",
       "      <td>0.852</td>\n",
       "      <td>1</td>\n",
       "      <td>37</td>\n",
       "      <td>1</td>\n",
       "      <td>0.371163</td>\n",
       "      <td>2</td>\n",
       "      <td>1</td>\n",
       "      <td>1</td>\n",
       "      <td>0.980432</td>\n",
       "      <td>0</td>\n",
       "      <td>1</td>\n",
       "      <td>0</td>\n",
       "      <td>0</td>\n",
       "    </tr>\n",
       "    <tr>\n",
       "      <th>5429</th>\n",
       "      <td>0.664</td>\n",
       "      <td>1</td>\n",
       "      <td>48</td>\n",
       "      <td>7</td>\n",
       "      <td>0.000000</td>\n",
       "      <td>2</td>\n",
       "      <td>1</td>\n",
       "      <td>0</td>\n",
       "      <td>0.325318</td>\n",
       "      <td>1</td>\n",
       "      <td>0</td>\n",
       "      <td>0</td>\n",
       "      <td>0</td>\n",
       "    </tr>\n",
       "    <tr>\n",
       "      <th>551</th>\n",
       "      <td>0.648</td>\n",
       "      <td>0</td>\n",
       "      <td>47</td>\n",
       "      <td>6</td>\n",
       "      <td>0.426077</td>\n",
       "      <td>1</td>\n",
       "      <td>1</td>\n",
       "      <td>1</td>\n",
       "      <td>0.010339</td>\n",
       "      <td>0</td>\n",
       "      <td>1</td>\n",
       "      <td>0</td>\n",
       "      <td>1</td>\n",
       "    </tr>\n",
       "    <tr>\n",
       "      <th>8967</th>\n",
       "      <td>0.970</td>\n",
       "      <td>0</td>\n",
       "      <td>25</td>\n",
       "      <td>7</td>\n",
       "      <td>0.000000</td>\n",
       "      <td>2</td>\n",
       "      <td>1</td>\n",
       "      <td>1</td>\n",
       "      <td>0.417230</td>\n",
       "      <td>1</td>\n",
       "      <td>0</td>\n",
       "      <td>0</td>\n",
       "      <td>0</td>\n",
       "    </tr>\n",
       "  </tbody>\n",
       "</table>\n",
       "</div>"
      ],
      "text/plain": [
       "      CreditScore  Gender  Age  Tenure   Balance  NumOfProducts  HasCrCard  \\\n",
       "5710        0.856       0   34       5  0.554265              2          0   \n",
       "3745        0.852       1   37       1  0.371163              2          1   \n",
       "5429        0.664       1   48       7  0.000000              2          1   \n",
       "551         0.648       0   47       6  0.426077              1          1   \n",
       "8967        0.970       0   25       7  0.000000              2          1   \n",
       "\n",
       "      IsActiveMember  EstimatedSalary  Geography_France  Geography_Germany  \\\n",
       "5710               0         0.339721                 1                  0   \n",
       "3745               1         0.980432                 0                  1   \n",
       "5429               0         0.325318                 1                  0   \n",
       "551                1         0.010339                 0                  1   \n",
       "8967               1         0.417230                 1                  0   \n",
       "\n",
       "      Geography_Spain  Exited  \n",
       "5710                0       0  \n",
       "3745                0       0  \n",
       "5429                0       0  \n",
       "551                 0       1  \n",
       "8967                0       0  "
      ]
     },
     "execution_count": 145,
     "metadata": {},
     "output_type": "execute_result"
    }
   ],
   "source": [
    "df2 = x_train.copy()\n",
    "df2['Exited'] = y_train\n",
    "df2.head()"
   ]
  },
  {
   "cell_type": "code",
   "execution_count": 144,
   "metadata": {},
   "outputs": [
    {
     "data": {
      "text/plain": [
       "0    6370\n",
       "1    1630\n",
       "Name: Exited, dtype: int64"
      ]
     },
     "execution_count": 144,
     "metadata": {},
     "output_type": "execute_result"
    }
   ],
   "source": [
    "df2.Exited.value_counts()"
   ]
  },
  {
   "cell_type": "code",
   "execution_count": 149,
   "metadata": {},
   "outputs": [],
   "source": [
    "df2_exited_0 = df2[df2.Exited==0]\n",
    "df2_exited_1 = df2[df2.Exited==1]"
   ]
  },
  {
   "cell_type": "code",
   "execution_count": 151,
   "metadata": {},
   "outputs": [],
   "source": [
    "def get_train_batch(df_majority, df_minority, start, end):\n",
    "    df = pd.concat([df_majority[start:end], df_minority], axis=0)\n",
    "    x_train = df.drop('Exited', axis=1)\n",
    "    y_train = df.Exited\n",
    "    return x_train, y_train"
   ]
  },
  {
   "cell_type": "code",
   "execution_count": 164,
   "metadata": {},
   "outputs": [
    {
     "name": "stdout",
     "output_type": "stream",
     "text": [
      "Epoch 1/10\n",
      "102/102 [==============================] - 0s 603us/step - loss: 4.6046 - accuracy: 0.5066\n",
      "Epoch 2/10\n",
      "102/102 [==============================] - 0s 579us/step - loss: 1.0131 - accuracy: 0.4852\n",
      "Epoch 3/10\n",
      "102/102 [==============================] - 0s 566us/step - loss: 0.7973 - accuracy: 0.4827\n",
      "Epoch 4/10\n",
      "102/102 [==============================] - 0s 568us/step - loss: 0.7303 - accuracy: 0.4910\n",
      "Epoch 5/10\n",
      "102/102 [==============================] - 0s 554us/step - loss: 0.6974 - accuracy: 0.5014\n",
      "Epoch 6/10\n",
      "102/102 [==============================] - 0s 530us/step - loss: 0.6772 - accuracy: 0.4988\n",
      "Epoch 7/10\n",
      "102/102 [==============================] - 0s 526us/step - loss: 0.6644 - accuracy: 0.6330\n",
      "Epoch 8/10\n",
      "102/102 [==============================] - 0s 542us/step - loss: 0.6476 - accuracy: 0.6698\n",
      "Epoch 9/10\n",
      "102/102 [==============================] - 0s 521us/step - loss: 0.6396 - accuracy: 0.6744\n",
      "Epoch 10/10\n",
      "102/102 [==============================] - 0s 538us/step - loss: 0.6290 - accuracy: 0.6751\n",
      "63/63 [==============================] - 0s 488us/step - loss: 0.5898 - accuracy: 0.6865\n",
      "[0.5897519588470459, 0.6865000128746033]\n",
      "              precision    recall  f1-score   support\n",
      "\n",
      "           0       0.90      0.69      0.78      1593\n",
      "           1       0.36      0.69      0.47       407\n",
      "\n",
      "    accuracy                           0.69      2000\n",
      "   macro avg       0.63      0.69      0.62      2000\n",
      "weighted avg       0.79      0.69      0.71      2000\n",
      "\n"
     ]
    }
   ],
   "source": [
    "x_train, y_train = get_train_batch(df2_exited_0, df2_exited_1, 0, 1630)\n",
    "y_pred1 = ANN(x_train, y_train, x_test, y_test, \"binary_crossentropy\")"
   ]
  },
  {
   "cell_type": "code",
   "execution_count": 165,
   "metadata": {},
   "outputs": [
    {
     "name": "stdout",
     "output_type": "stream",
     "text": [
      "Epoch 1/10\n",
      "102/102 [==============================] - 0s 610us/step - loss: 0.9669 - accuracy: 0.5184\n",
      "Epoch 2/10\n",
      "102/102 [==============================] - 0s 633us/step - loss: 0.6695 - accuracy: 0.5786\n",
      "Epoch 3/10\n",
      "102/102 [==============================] - 0s 549us/step - loss: 0.6546 - accuracy: 0.5951\n",
      "Epoch 4/10\n",
      "102/102 [==============================] - 0s 547us/step - loss: 0.6499 - accuracy: 0.6209\n",
      "Epoch 5/10\n",
      "102/102 [==============================] - 0s 535us/step - loss: 0.6354 - accuracy: 0.6418\n",
      "Epoch 6/10\n",
      "102/102 [==============================] - 0s 548us/step - loss: 0.6311 - accuracy: 0.6528\n",
      "Epoch 7/10\n",
      "102/102 [==============================] - 0s 541us/step - loss: 0.6202 - accuracy: 0.6624\n",
      "Epoch 8/10\n",
      "102/102 [==============================] - 0s 557us/step - loss: 0.5981 - accuracy: 0.6911\n",
      "Epoch 9/10\n",
      "102/102 [==============================] - 0s 538us/step - loss: 0.6021 - accuracy: 0.6730\n",
      "Epoch 10/10\n",
      "102/102 [==============================] - 0s 540us/step - loss: 0.5964 - accuracy: 0.6856\n",
      "63/63 [==============================] - 0s 480us/step - loss: 0.5713 - accuracy: 0.7030\n",
      "[0.5713251233100891, 0.703000009059906]\n",
      "              precision    recall  f1-score   support\n",
      "\n",
      "           0       0.88      0.72      0.80      1593\n",
      "           1       0.36      0.62      0.46       407\n",
      "\n",
      "    accuracy                           0.70      2000\n",
      "   macro avg       0.62      0.67      0.63      2000\n",
      "weighted avg       0.78      0.70      0.73      2000\n",
      "\n"
     ]
    }
   ],
   "source": [
    "x_train, y_train = get_train_batch(df2_exited_0, df2_exited_1, 1630, 3260)\n",
    "y_pred2 = ANN(x_train, y_train, x_test, y_test, \"binary_crossentropy\")"
   ]
  },
  {
   "cell_type": "code",
   "execution_count": 166,
   "metadata": {},
   "outputs": [
    {
     "name": "stdout",
     "output_type": "stream",
     "text": [
      "Epoch 1/10\n",
      "102/102 [==============================] - 0s 607us/step - loss: 1.4631 - accuracy: 0.5073\n",
      "Epoch 2/10\n",
      "102/102 [==============================] - 0s 573us/step - loss: 0.6813 - accuracy: 0.5696\n",
      "Epoch 3/10\n",
      "102/102 [==============================] - 0s 573us/step - loss: 0.6690 - accuracy: 0.5778\n",
      "Epoch 4/10\n",
      "102/102 [==============================] - 0s 549us/step - loss: 0.6525 - accuracy: 0.6322\n",
      "Epoch 5/10\n",
      "102/102 [==============================] - 0s 533us/step - loss: 0.6353 - accuracy: 0.6640\n",
      "Epoch 6/10\n",
      "102/102 [==============================] - 0s 603us/step - loss: 0.6150 - accuracy: 0.6811\n",
      "Epoch 7/10\n",
      "102/102 [==============================] - 0s 551us/step - loss: 0.6064 - accuracy: 0.6746\n",
      "Epoch 8/10\n",
      "102/102 [==============================] - 0s 549us/step - loss: 0.5990 - accuracy: 0.6882\n",
      "Epoch 9/10\n",
      "102/102 [==============================] - 0s 532us/step - loss: 0.5915 - accuracy: 0.6921\n",
      "Epoch 10/10\n",
      "102/102 [==============================] - 0s 555us/step - loss: 0.5794 - accuracy: 0.7001\n",
      "63/63 [==============================] - 0s 506us/step - loss: 0.5483 - accuracy: 0.7250\n",
      "[0.5483164191246033, 0.7250000238418579]\n",
      "              precision    recall  f1-score   support\n",
      "\n",
      "           0       0.87      0.77      0.82      1593\n",
      "           1       0.38      0.56      0.45       407\n",
      "\n",
      "    accuracy                           0.73      2000\n",
      "   macro avg       0.63      0.66      0.63      2000\n",
      "weighted avg       0.77      0.72      0.74      2000\n",
      "\n"
     ]
    }
   ],
   "source": [
    "x_train, y_train = get_train_batch(df2_exited_0, df2_exited_1, 3260, 4890)\n",
    "y_pred3 = ANN(x_train, y_train, x_test, y_test, \"binary_crossentropy\")"
   ]
  },
  {
   "cell_type": "code",
   "execution_count": 167,
   "metadata": {},
   "outputs": [
    {
     "name": "stdout",
     "output_type": "stream",
     "text": [
      "Epoch 1/10\n",
      "98/98 [==============================] - 0s 592us/step - loss: 0.7048 - accuracy: 0.5393\n",
      "Epoch 2/10\n",
      "98/98 [==============================] - 0s 577us/step - loss: 0.6683 - accuracy: 0.5862\n",
      "Epoch 3/10\n",
      "98/98 [==============================] - 0s 546us/step - loss: 0.6557 - accuracy: 0.6138\n",
      "Epoch 4/10\n",
      "98/98 [==============================] - 0s 570us/step - loss: 0.6418 - accuracy: 0.6327\n",
      "Epoch 5/10\n",
      "98/98 [==============================] - 0s 595us/step - loss: 0.6285 - accuracy: 0.6541\n",
      "Epoch 6/10\n",
      "98/98 [==============================] - 0s 606us/step - loss: 0.6153 - accuracy: 0.6669\n",
      "Epoch 7/10\n",
      "98/98 [==============================] - 0s 556us/step - loss: 0.6032 - accuracy: 0.6932\n",
      "Epoch 8/10\n",
      "98/98 [==============================] - 0s 542us/step - loss: 0.5876 - accuracy: 0.6843\n",
      "Epoch 9/10\n",
      "98/98 [==============================] - 0s 529us/step - loss: 0.6001 - accuracy: 0.6752\n",
      "Epoch 10/10\n",
      "98/98 [==============================] - 0s 553us/step - loss: 0.5911 - accuracy: 0.6866\n",
      "63/63 [==============================] - 0s 473us/step - loss: 0.6503 - accuracy: 0.6275\n",
      "[0.6503220796585083, 0.6274999976158142]\n",
      "              precision    recall  f1-score   support\n",
      "\n",
      "           0       0.90      0.60      0.72      1593\n",
      "           1       0.32      0.75      0.45       407\n",
      "\n",
      "    accuracy                           0.63      2000\n",
      "   macro avg       0.61      0.67      0.58      2000\n",
      "weighted avg       0.79      0.63      0.66      2000\n",
      "\n"
     ]
    }
   ],
   "source": [
    "x_train, y_train = get_train_batch(df2_exited_0, df2_exited_1, 4890, 6370)\n",
    "y_pred4 = ANN(x_train, y_train, x_test, y_test, \"binary_crossentropy\")"
   ]
  },
  {
   "cell_type": "code",
   "execution_count": 174,
   "metadata": {},
   "outputs": [],
   "source": [
    "y_pred_final = []\n",
    "for i in range(len(y_pred1)):\n",
    "    sum = y_pred1[i] + y_pred2[i] + y_pred3[i] + y_pred4[i]\n",
    "    if sum>2:\n",
    "        y_pred_final.append(1)\n",
    "    else:\n",
    "        y_pred_final.append(0)"
   ]
  },
  {
   "cell_type": "code",
   "execution_count": 175,
   "metadata": {},
   "outputs": [
    {
     "name": "stdout",
     "output_type": "stream",
     "text": [
      "              precision    recall  f1-score   support\n",
      "\n",
      "           0       0.88      0.73      0.80      1593\n",
      "           1       0.37      0.62      0.46       407\n",
      "\n",
      "    accuracy                           0.71      2000\n",
      "   macro avg       0.63      0.67      0.63      2000\n",
      "weighted avg       0.78      0.71      0.73      2000\n",
      "\n"
     ]
    }
   ],
   "source": [
    "print(classification_report(y_test, y_pred_final))"
   ]
  },
  {
   "cell_type": "code",
   "execution_count": null,
   "metadata": {},
   "outputs": [],
   "source": []
  }
 ],
 "metadata": {
  "kernelspec": {
   "display_name": "Python 3",
   "language": "python",
   "name": "python3"
  },
  "language_info": {
   "codemirror_mode": {
    "name": "ipython",
    "version": 3
   },
   "file_extension": ".py",
   "mimetype": "text/x-python",
   "name": "python",
   "nbconvert_exporter": "python",
   "pygments_lexer": "ipython3",
   "version": "3.8.5"
  }
 },
 "nbformat": 4,
 "nbformat_minor": 4
}
